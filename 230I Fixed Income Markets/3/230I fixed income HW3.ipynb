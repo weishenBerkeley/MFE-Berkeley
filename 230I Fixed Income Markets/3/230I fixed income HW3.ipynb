{
 "cells": [
  {
   "cell_type": "markdown",
   "metadata": {},
   "source": [
    "## MFE 230I Problem Set 3\n",
    "\n",
    "### Tree-Based Models\n",
    "\n",
    "### Q1\n"
   ]
  },
  {
   "cell_type": "code",
   "execution_count": 1,
   "metadata": {
    "collapsed": true
   },
   "outputs": [],
   "source": [
    "\n",
    "from __future__ import print_function, division\n",
    "\n",
    "import pandas as pd\n",
    "import numpy as np\n",
    "\n",
    "import statsmodels.api as sm\n",
    "from statsmodels import tsa\n",
    "from datetime import date, datetime, timedelta\n",
    "import copy\n",
    "import scipy as sp\n",
    "from scipy.optimize import fsolve\n",
    "\n",
    "from cycler import cycler\n",
    "import matplotlib.pyplot as plt\n",
    "import matplotlib.patches as patches\n",
    "import matplotlib as mpl\n",
    "import matplotlib.dates\n",
    "\n",
    "# Plotting and display options\n",
    "np.set_printoptions(precision=10)\n",
    "pd.set_option('precision', 8)\n",
    "pd.set_option('display.float_format', lambda x: '%.8f' % x)\n",
    "\n",
    "plt.style.use('ggplot')\n",
    "\n",
    "mpl.rcParams['lines.linewidth'] = 1.5\n",
    "mpl.rcParams['lines.color'] = 'blue'\n",
    "mpl.rcParams['axes.prop_cycle'] = cycler('color', ['#30a2da', '#e5ae38', '#fc4f30', '#6d904f', '#8b8b8b'])\n",
    "mpl.rcParams['legend.fancybox'] = True\n",
    "mpl.rcParams['legend.fontsize'] = 14\n",
    "mpl.rcParams['axes.facecolor'] = '#f0f0f0'\n",
    "mpl.rcParams['axes.labelsize'] = 15\n",
    "mpl.rcParams['axes.axisbelow'] = True\n",
    "mpl.rcParams['axes.linewidth'] = 1.2\n",
    "mpl.rcParams['axes.labelpad'] = 0.0\n",
    "mpl.rcParams['axes.xmargin'] = 0.05  # x margin.  See `axes.Axes.margins`\n",
    "mpl.rcParams['axes.ymargin'] = 0.05  # y margin See `axes.Axes.margins`\n",
    "mpl.rcParams['xtick.labelsize'] = 14\n",
    "mpl.rcParams['ytick.labelsize'] = 14\n",
    "mpl.rcParams['figure.subplot.left'] = 0.08\n",
    "mpl.rcParams['figure.subplot.right'] = 0.95\n",
    "mpl.rcParams['figure.subplot.bottom'] = 0.07\n",
    "\n",
    "# figure configuration\n",
    "fsize = (10,7.5) # figure size\n",
    "tsize = 18 # title font size\n",
    "lsize = 16 # legend font size\n",
    "csize = 14 # comment font size\n",
    "grid = True # grid\n",
    "\n",
    "# this allows plots to appear directly in the notebook\n",
    "get_ipython().magic(u'matplotlib inline')\n",
    "\n"
   ]
  },
  {
   "cell_type": "code",
   "execution_count": 2,
   "metadata": {
    "collapsed": false
   },
   "outputs": [],
   "source": [
    "#initial values\n",
    "\n",
    "maturity = [1,2,3,4,5,6]\n",
    "yields = [0.05, 0.055, 0.0570, 0.0590 , 0.060 , 0.0610]\n",
    "volatility = 0.015\n",
    "\n",
    "#find next drift for Binomial Tree\n",
    "\n",
    "def find(m, BT, y, volatility):\n",
    "    values=[]\n",
    "    T=len(BT)+1\n",
    "    Bt=BT[:]\n",
    "    Bt.reverse()\n",
    "    for i in Bt:\n",
    "        temp=[]\n",
    "        if len(values)==0:\n",
    "            for r in i:\n",
    "                values.append((0.5*100/(1+r+volatility+m)+0.5*100/(1+r+m-volatility))/(1+r))\n",
    "        else:\n",
    "            for ind in range(len(i)):\n",
    "                temp.append((values[ind]+values[ind+1])/(2*(1+i[ind])))\n",
    "            values=temp[:]\n",
    "        \n",
    "    return(values[0] - 100/((1+y)**T))\n",
    "\n",
    "def generate_BT(maturity = maturity, yields = yields, volatility = volatility):\n",
    "    BT=[[yields[0]]]\n",
    "    for matur, y in zip(maturity[1:],yields[1:]):\n",
    "        m = fsolve(find, 0, args=(BT, y , volatility))[0]\n",
    "        last = BT[-1]\n",
    "        last_last = last[-1]\n",
    "        new_branch = [knots + m + volatility for knots in last]\n",
    "        new_branch.append(last_last - volatility + m)\n",
    "        BT.append(new_branch)\n",
    "        \n",
    "    return BT\n",
    "\n"
   ]
  },
  {
   "cell_type": "code",
   "execution_count": 4,
   "metadata": {
    "collapsed": false
   },
   "outputs": [
    {
     "data": {
      "text/html": [
       "<div>\n",
       "<table border=\"1\" class=\"dataframe\">\n",
       "  <thead>\n",
       "    <tr style=\"text-align: right;\">\n",
       "      <th></th>\n",
       "      <th>0</th>\n",
       "      <th>1</th>\n",
       "      <th>2</th>\n",
       "      <th>3</th>\n",
       "      <th>4</th>\n",
       "      <th>5</th>\n",
       "    </tr>\n",
       "  </thead>\n",
       "  <tbody>\n",
       "    <tr>\n",
       "      <th>0</th>\n",
       "      <td>0.05000000</td>\n",
       "      <td>0.07523603</td>\n",
       "      <td>0.09164759</td>\n",
       "      <td>0.11129248</td>\n",
       "      <td>0.12612463</td>\n",
       "      <td>0.14418405</td>\n",
       "    </tr>\n",
       "    <tr>\n",
       "      <th>1</th>\n",
       "      <td>nan</td>\n",
       "      <td>0.04523603</td>\n",
       "      <td>0.06164759</td>\n",
       "      <td>0.08129248</td>\n",
       "      <td>0.09612463</td>\n",
       "      <td>0.11418405</td>\n",
       "    </tr>\n",
       "    <tr>\n",
       "      <th>2</th>\n",
       "      <td>nan</td>\n",
       "      <td>nan</td>\n",
       "      <td>0.03164759</td>\n",
       "      <td>0.05129248</td>\n",
       "      <td>0.06612463</td>\n",
       "      <td>0.08418405</td>\n",
       "    </tr>\n",
       "    <tr>\n",
       "      <th>3</th>\n",
       "      <td>nan</td>\n",
       "      <td>nan</td>\n",
       "      <td>nan</td>\n",
       "      <td>0.02129248</td>\n",
       "      <td>0.03612463</td>\n",
       "      <td>0.05418405</td>\n",
       "    </tr>\n",
       "    <tr>\n",
       "      <th>4</th>\n",
       "      <td>nan</td>\n",
       "      <td>nan</td>\n",
       "      <td>nan</td>\n",
       "      <td>nan</td>\n",
       "      <td>0.00612463</td>\n",
       "      <td>0.02418405</td>\n",
       "    </tr>\n",
       "    <tr>\n",
       "      <th>5</th>\n",
       "      <td>nan</td>\n",
       "      <td>nan</td>\n",
       "      <td>nan</td>\n",
       "      <td>nan</td>\n",
       "      <td>nan</td>\n",
       "      <td>-0.00581595</td>\n",
       "    </tr>\n",
       "  </tbody>\n",
       "</table>\n",
       "</div>"
      ],
      "text/plain": [
       "           0          1          2          3          4           5\n",
       "0 0.05000000 0.07523603 0.09164759 0.11129248 0.12612463  0.14418405\n",
       "1        nan 0.04523603 0.06164759 0.08129248 0.09612463  0.11418405\n",
       "2        nan        nan 0.03164759 0.05129248 0.06612463  0.08418405\n",
       "3        nan        nan        nan 0.02129248 0.03612463  0.05418405\n",
       "4        nan        nan        nan        nan 0.00612463  0.02418405\n",
       "5        nan        nan        nan        nan        nan -0.00581595"
      ]
     },
     "execution_count": 4,
     "metadata": {},
     "output_type": "execute_result"
    }
   ],
   "source": [
    "BT=generate_BT()\n",
    "#for br in BT:\n",
    " #   print(format(br))\n",
    "\n",
    "pd.DataFrame(BT).T\n"
   ]
  },
  {
   "cell_type": "markdown",
   "metadata": {},
   "source": [
    "## Q2\n",
    "\n",
    "### (a)\n",
    "\n",
    "The mortgagae value is **98.90748**"
   ]
  },
  {
   "cell_type": "code",
   "execution_count": 10,
   "metadata": {
    "collapsed": false
   },
   "outputs": [
    {
     "data": {
      "text/plain": [
       "20.01789476223801"
      ]
     },
     "execution_count": 10,
     "metadata": {},
     "output_type": "execute_result"
    }
   ],
   "source": [
    "#coupon every year is:\n",
    "c=100/sum([1/(1.055**i) for i in range(1,7)])\n",
    "c"
   ]
  },
  {
   "cell_type": "code",
   "execution_count": 11,
   "metadata": {
    "collapsed": false
   },
   "outputs": [
    {
     "name": "stdout",
     "output_type": "stream",
     "text": [
      "[98.907483369778262]\n"
     ]
    }
   ],
   "source": [
    "Bt=BT[:]\n",
    "Bt.reverse()\n",
    "values=[]\n",
    "value_tree=[]\n",
    "for branch in Bt:\n",
    "    temp=[]\n",
    "    if len(values)==0:\n",
    "        for r in branch:\n",
    "            values.append(c/(1+r))\n",
    "    else:\n",
    "        for ind in range(len(branch)):\n",
    "            temp.append((0.5*values[ind]+0.5*values[ind+1]+c)/(1+branch[ind]))\n",
    "        values=temp[:]\n",
    "    value_tree.append(values)\n",
    "value_tree.reverse()\n",
    "print(values)"
   ]
  },
  {
   "cell_type": "code",
   "execution_count": 17,
   "metadata": {
    "collapsed": false
   },
   "outputs": [
    {
     "name": "stdout",
     "output_type": "stream",
     "text": [
      "Value by Tree\n"
     ]
    },
    {
     "data": {
      "text/html": [
       "<div>\n",
       "<table border=\"1\" class=\"dataframe\">\n",
       "  <thead>\n",
       "    <tr style=\"text-align: right;\">\n",
       "      <th></th>\n",
       "      <th>0</th>\n",
       "      <th>1</th>\n",
       "      <th>2</th>\n",
       "      <th>3</th>\n",
       "      <th>4</th>\n",
       "      <th>5</th>\n",
       "    </tr>\n",
       "  </thead>\n",
       "  <tbody>\n",
       "    <tr>\n",
       "      <th>0</th>\n",
       "      <td>98.01705337</td>\n",
       "      <td>80.33125436</td>\n",
       "      <td>64.24577241</td>\n",
       "      <td>48.78859447</td>\n",
       "      <td>33.52095716</td>\n",
       "      <td>17.49534509</td>\n",
       "    </tr>\n",
       "    <tr>\n",
       "      <th>1</th>\n",
       "      <td>nan</td>\n",
       "      <td>85.46876820</td>\n",
       "      <td>68.46855552</td>\n",
       "      <td>51.44310187</td>\n",
       "      <td>34.88004990</td>\n",
       "      <td>17.96641659</td>\n",
       "    </tr>\n",
       "    <tr>\n",
       "      <th>2</th>\n",
       "      <td>nan</td>\n",
       "      <td>nan</td>\n",
       "      <td>70.16572626</td>\n",
       "      <td>53.90006319</td>\n",
       "      <td>36.33423928</td>\n",
       "      <td>18.46355774</td>\n",
       "    </tr>\n",
       "    <tr>\n",
       "      <th>3</th>\n",
       "      <td>nan</td>\n",
       "      <td>nan</td>\n",
       "      <td>nan</td>\n",
       "      <td>54.00694645</td>\n",
       "      <td>36.95943374</td>\n",
       "      <td>18.97430783</td>\n",
       "    </tr>\n",
       "    <tr>\n",
       "      <th>4</th>\n",
       "      <td>nan</td>\n",
       "      <td>nan</td>\n",
       "      <td>nan</td>\n",
       "      <td>nan</td>\n",
       "      <td>36.95943374</td>\n",
       "      <td>18.97430783</td>\n",
       "    </tr>\n",
       "    <tr>\n",
       "      <th>5</th>\n",
       "      <td>nan</td>\n",
       "      <td>nan</td>\n",
       "      <td>nan</td>\n",
       "      <td>nan</td>\n",
       "      <td>nan</td>\n",
       "      <td>18.97430783</td>\n",
       "    </tr>\n",
       "  </tbody>\n",
       "</table>\n",
       "</div>"
      ],
      "text/plain": [
       "            0           1           2           3           4           5\n",
       "0 98.01705337 80.33125436 64.24577241 48.78859447 33.52095716 17.49534509\n",
       "1         nan 85.46876820 68.46855552 51.44310187 34.88004990 17.96641659\n",
       "2         nan         nan 70.16572626 53.90006319 36.33423928 18.46355774\n",
       "3         nan         nan         nan 54.00694645 36.95943374 18.97430783\n",
       "4         nan         nan         nan         nan 36.95943374 18.97430783\n",
       "5         nan         nan         nan         nan         nan 18.97430783"
      ]
     },
     "execution_count": 17,
     "metadata": {},
     "output_type": "execute_result"
    }
   ],
   "source": [
    "print(\"Value by Tree\")\n",
    "pd.DataFrame(value_tree).T"
   ]
  },
  {
   "cell_type": "code",
   "execution_count": 13,
   "metadata": {
    "collapsed": false
   },
   "outputs": [
    {
     "name": "stdout",
     "output_type": "stream",
     "text": [
      "Spot rate duration is: \n",
      "2.29308540755\n"
     ]
    }
   ],
   "source": [
    "#the spot rate duration:\n",
    "print(\"Spot rate duration is: \")\n",
    "print(-(value_tree[1][0]-value_tree[1][1])/(BT[1][0]-BT[1][1])/values[0])"
   ]
  },
  {
   "cell_type": "markdown",
   "metadata": {},
   "source": [
    "### (b) "
   ]
  },
  {
   "cell_type": "code",
   "execution_count": 14,
   "metadata": {
    "collapsed": false
   },
   "outputs": [],
   "source": [
    "#backward from value tree\n",
    "#value_tree[-1]"
   ]
  },
  {
   "cell_type": "code",
   "execution_count": 15,
   "metadata": {
    "collapsed": false
   },
   "outputs": [
    {
     "data": {
      "text/html": [
       "<div>\n",
       "<table border=\"1\" class=\"dataframe\">\n",
       "  <thead>\n",
       "    <tr style=\"text-align: right;\">\n",
       "      <th></th>\n",
       "      <th>Principal not due</th>\n",
       "      <th>repayment</th>\n",
       "      <th>interest part</th>\n",
       "      <th>principal part</th>\n",
       "    </tr>\n",
       "  </thead>\n",
       "  <tbody>\n",
       "    <tr>\n",
       "      <th>1</th>\n",
       "      <td>100.00000000</td>\n",
       "      <td>20.01789476</td>\n",
       "      <td>5.50000000</td>\n",
       "      <td>14.51789476</td>\n",
       "    </tr>\n",
       "    <tr>\n",
       "      <th>2</th>\n",
       "      <td>85.48210524</td>\n",
       "      <td>20.01789476</td>\n",
       "      <td>4.70151579</td>\n",
       "      <td>15.31637897</td>\n",
       "    </tr>\n",
       "    <tr>\n",
       "      <th>3</th>\n",
       "      <td>70.16572626</td>\n",
       "      <td>20.01789476</td>\n",
       "      <td>3.85911494</td>\n",
       "      <td>16.15877982</td>\n",
       "    </tr>\n",
       "    <tr>\n",
       "      <th>4</th>\n",
       "      <td>54.00694645</td>\n",
       "      <td>20.01789476</td>\n",
       "      <td>2.97038205</td>\n",
       "      <td>17.04751271</td>\n",
       "    </tr>\n",
       "    <tr>\n",
       "      <th>5</th>\n",
       "      <td>36.95943374</td>\n",
       "      <td>20.01789476</td>\n",
       "      <td>2.03276886</td>\n",
       "      <td>17.98512591</td>\n",
       "    </tr>\n",
       "    <tr>\n",
       "      <th>6</th>\n",
       "      <td>18.97430783</td>\n",
       "      <td>20.01789476</td>\n",
       "      <td>1.04358693</td>\n",
       "      <td>18.97430783</td>\n",
       "    </tr>\n",
       "  </tbody>\n",
       "</table>\n",
       "</div>"
      ],
      "text/plain": [
       "   Principal not due   repayment  interest part  principal part\n",
       "1       100.00000000 20.01789476     5.50000000     14.51789476\n",
       "2        85.48210524 20.01789476     4.70151579     15.31637897\n",
       "3        70.16572626 20.01789476     3.85911494     16.15877982\n",
       "4        54.00694645 20.01789476     2.97038205     17.04751271\n",
       "5        36.95943374 20.01789476     2.03276886     17.98512591\n",
       "6        18.97430783 20.01789476     1.04358693     18.97430783"
      ]
     },
     "execution_count": 15,
     "metadata": {},
     "output_type": "execute_result"
    }
   ],
   "source": [
    "#calculate the mortgage value\n",
    "table=[]\n",
    "mortgage_value=[100,c,5.5,c-5.5]\n",
    "table.append(mortgage_value)\n",
    "for i in range(2,7):\n",
    "    new_value=[]\n",
    "    new_value.append(mortgage_value[0]-mortgage_value[3])\n",
    "    new_value.append(c)\n",
    "    new_value.append(new_value[0]*0.055)\n",
    "    new_value.append(new_value[1]-new_value[2])\n",
    "    table.append(new_value)\n",
    "    mortgage_value=new_value\n",
    "\n",
    "Mortgage_=pd.DataFrame(table,columns=['Principal not due','repayment','interest part','principal part'],index=[1,2,3,4,5,6])\n",
    "Mortgage_"
   ]
  },
  {
   "cell_type": "markdown",
   "metadata": {},
   "source": [
    "We assume that the borrower refinance optimally, so this means for example, in the last payment, if the value of mortgage is larger than 18.974308, the homeowener will prepay their mortgage. It acts like a callable bonds. Lender will no longer benefits from lower interests protection."
   ]
  },
  {
   "cell_type": "code",
   "execution_count": 19,
   "metadata": {
    "collapsed": false
   },
   "outputs": [
    {
     "name": "stdout",
     "output_type": "stream",
     "text": [
      "            0           1           2           3           4           5\n",
      "0 98.01705337 80.33125436 64.24577241 48.78859447 33.52095716 17.49534509\n",
      "1         nan 85.46876820 68.46855552 51.44310187 34.88004990 17.96641659\n",
      "2         nan         nan 70.16572626 53.90006319 36.33423928 18.46355774\n",
      "3         nan         nan         nan 54.00694645 36.95943374 18.97430783\n",
      "4         nan         nan         nan         nan 36.95943374 18.97430783\n",
      "5         nan         nan         nan         nan         nan 18.97430783\n",
      "Mortgage value: 98.0170533713\n"
     ]
    }
   ],
   "source": [
    "Bt=BT[:]\n",
    "Bt.reverse()\n",
    "values=[]\n",
    "value_tree=[]\n",
    "prepaid_tree=[]\n",
    "optimal_value=Mortgage_['Principal not due'].tolist()\n",
    "optimal_value.reverse()\n",
    "k=0\n",
    "for branch in Bt:\n",
    "    opt=optimal_value[k]\n",
    "    k=k+1\n",
    "    temp=[]\n",
    "    if len(values)==0:\n",
    "        for r in branch:\n",
    "            values.append(min(c/(1+r),opt))\n",
    "    else:\n",
    "        for ind in range(len(branch)):\n",
    "            temp.append(min((0.5*values[ind]+0.5*values[ind+1]+c)/(1+branch[ind]),opt))\n",
    "        values=temp[:]\n",
    "    value_tree.append(values)\n",
    "    prepaid_tree.append(np.equal(values,opt).tolist())\n",
    "value_tree.reverse()\n",
    "prepaid_tree.reverse()\n",
    "print(pd.DataFrame(value_tree).T)\n",
    "print(\"Mortgage value:\", values[0])"
   ]
  },
  {
   "cell_type": "code",
   "execution_count": 20,
   "metadata": {
    "collapsed": false
   },
   "outputs": [],
   "source": [
    "#print(prepaid_tree)"
   ]
  },
  {
   "cell_type": "code",
   "execution_count": 21,
   "metadata": {
    "collapsed": false
   },
   "outputs": [
    {
     "name": "stdout",
     "output_type": "stream",
     "text": [
      "Spot rate duration is: \n",
      "1.7471496601\n"
     ]
    }
   ],
   "source": [
    "#the spot rate duration:\n",
    "print(\"Spot rate duration is: \")\n",
    "print(-(value_tree[1][0]-value_tree[1][1])/(BT[1][0]-BT[1][1])/values[0])"
   ]
  },
  {
   "cell_type": "markdown",
   "metadata": {},
   "source": [
    "### (c)\n"
   ]
  },
  {
   "cell_type": "code",
   "execution_count": 25,
   "metadata": {
    "collapsed": false
   },
   "outputs": [
    {
     "name": "stdout",
     "output_type": "stream",
     "text": [
      "PO part: 83.1940813579\n"
     ]
    }
   ],
   "source": [
    "Bt=BT[:]\n",
    "Pt=prepaid_tree[:]\n",
    "Pt.reverse()\n",
    "Bt.reverse()\n",
    "values=[]\n",
    "value_tree=[]\n",
    "optimal_value=Mortgage_['Principal not due'].tolist()\n",
    "principal_value=Mortgage_['principal part'].tolist()\n",
    "principal_value.reverse()\n",
    "optimal_value.reverse()\n",
    "k=0\n",
    "for branch,mask in zip(Bt,Pt):\n",
    "    opt=optimal_value[k]\n",
    "    prin=principal_value[k]\n",
    "    k=k+1\n",
    "    temp=[]\n",
    "    if len(values)==0:\n",
    "        for ind in range(len(branch)):\n",
    "            if mask[ind]:\n",
    "                values.append(opt)\n",
    "            else:\n",
    "                \n",
    "                values.append(opt/(1+branch[ind]))\n",
    "    else:\n",
    "        for ind in range(len(branch)):\n",
    "            if mask[ind]:\n",
    "                temp.append(opt)\n",
    "            else:\n",
    "                \n",
    "                temp.append(min((0.5*values[ind]+0.5*values[ind+1]+prin)/(1+branch[ind]),opt))\n",
    "        values=temp[:]\n",
    "    value_tree.append(values)\n",
    "\n",
    "value_tree.reverse()\n",
    "print(\"PO part:\", values[0])"
   ]
  },
  {
   "cell_type": "code",
   "execution_count": 26,
   "metadata": {
    "collapsed": false
   },
   "outputs": [
    {
     "name": "stdout",
     "output_type": "stream",
     "text": [
      "Spot rate duration is: \n",
      "3.4928422803\n"
     ]
    }
   ],
   "source": [
    "#the spot rate duration:\n",
    "print(\"Spot rate duration is: \")\n",
    "print(-(value_tree[1][0]-value_tree[1][1])/(BT[1][0]-BT[1][1])/values[0])"
   ]
  },
  {
   "cell_type": "markdown",
   "metadata": {},
   "source": [
    "### (d)"
   ]
  },
  {
   "cell_type": "code",
   "execution_count": 28,
   "metadata": {
    "collapsed": false
   },
   "outputs": [
    {
     "name": "stdout",
     "output_type": "stream",
     "text": [
      "IO part: 14.8229720134\n"
     ]
    }
   ],
   "source": [
    "Bt=BT[:]\n",
    "Pt=prepaid_tree[:]\n",
    "Pt.reverse()\n",
    "Bt.reverse()\n",
    "values=[]\n",
    "value_tree=[]\n",
    "optimal_value=Mortgage_['Principal not due'].tolist()\n",
    "interest_value=Mortgage_['interest part'].tolist()\n",
    "interest_value.reverse()\n",
    "optimal_value.reverse()\n",
    "k=0\n",
    "for branch,mask in zip(Bt,Pt):\n",
    "    opt=optimal_value[k]\n",
    "    \n",
    "    interest=interest_value[k]\n",
    "    k=k+1\n",
    "    temp=[]\n",
    "    if len(values)==0:\n",
    "        for ind in range(len(branch)):\n",
    "            if mask[ind]:\n",
    "                values.append(0)\n",
    "            else:\n",
    "                    \n",
    "                values.append(interest/(1+branch[ind]))\n",
    "    else:\n",
    "        for ind in range(len(branch)):\n",
    "            if mask[ind]:\n",
    "                temp.append(0)\n",
    "            else:\n",
    "                \n",
    "                temp.append((0.5*values[ind]+0.5*values[ind+1]+interest)/(1+branch[ind]))\n",
    "        values=temp[:]\n",
    "    \n",
    "    value_tree.append(values)\n",
    "\n",
    "value_tree.reverse()\n",
    "print(\"IO part:\", values[0])"
   ]
  },
  {
   "cell_type": "markdown",
   "metadata": {
    "collapsed": false
   },
   "source": [
    "To test the result is good just add PO part and IO part together, then it should be the mortgage value."
   ]
  },
  {
   "cell_type": "code",
   "execution_count": 29,
   "metadata": {
    "collapsed": false
   },
   "outputs": [
    {
     "data": {
      "text/plain": [
       "98.01705337126697"
      ]
     },
     "execution_count": 29,
     "metadata": {},
     "output_type": "execute_result"
    }
   ],
   "source": [
    "14.822972013373075+83.194081357893893"
   ]
  },
  {
   "cell_type": "code",
   "execution_count": 30,
   "metadata": {
    "collapsed": false
   },
   "outputs": [
    {
     "name": "stdout",
     "output_type": "stream",
     "text": [
      "Spot rate duration is: \n",
      "-8.05056794604\n"
     ]
    }
   ],
   "source": [
    "#the spot rate duration:\n",
    "print(\"Spot rate duration is: \")\n",
    "print(-(value_tree[1][0]-value_tree[1][1])/(BT[1][0]-BT[1][1])/values[0])\n"
   ]
  },
  {
   "cell_type": "markdown",
   "metadata": {},
   "source": [
    "| Summary |Price | Spot Rate Duration |\n",
    "| ------| ------ | :------: |\n",
    "| (a) | 98.90748 | 2.29308 |\n",
    "| (b) | 98.01705 | 1.74714 |\n",
    "| (c) | 83.19408 | 3.49284 |\n",
    "| (d) | 98.01705 | -8.05056 |"
   ]
  },
  {
   "cell_type": "markdown",
   "metadata": {},
   "source": [
    "## Q3\n",
    "\n",
    "### (a) Calibration"
   ]
  },
  {
   "cell_type": "code",
   "execution_count": 31,
   "metadata": {
    "collapsed": false
   },
   "outputs": [
    {
     "name": "stdout",
     "output_type": "stream",
     "text": [
      "[ -3.2611556847e-02  -1.0778919536e-03  -1.9882987749e-05\n",
      "   2.8532567382e-06  -4.7816045094e-08]\n"
     ]
    }
   ],
   "source": [
    "import numpy as np\n",
    "import pandas as pd\n",
    "import matplotlib.pyplot as plt\n",
    "from scipy.optimize import fsolve\n",
    "import seaborn as sns\n",
    "from scipy.special import comb\n",
    "\n",
    "def OLS(y, X, const=True):\n",
    "    X = np.c_[np.ones(len(y)),X] if const else X\n",
    "    var = X.T.dot(X)\n",
    "    cov = X.T.dot(y)\n",
    "    return np.linalg.inv(var).dot(cov)\n",
    "\n",
    "def plot(x, y, title):\n",
    "    plt.xlabel('time')\n",
    "    plt.ylabel('rate')\n",
    "    plt.title(title)\n",
    "    plt.plot(x,y)\n",
    "    plt.show()\n",
    "    \n",
    "data = pd.read_excel('HW1_data.xls',skiprows=0,convert_float=True)\n",
    "data['T2'] = data['Maturity']**2\n",
    "data['T3'] = data['Maturity']**3\n",
    "data['T4'] = data['Maturity']**4\n",
    "data['T5'] = data['Maturity']**5\n",
    "data['log_Z'] = np.log(data['Price'] / 100)\n",
    "data.head()\n",
    "#a\n",
    "X = data[['Maturity', 'T2', 'T3', 'T4', 'T5']].copy()\n",
    "betas = OLS(data['log_Z'], X, const=False)\n",
    "print(betas)\n",
    "#b\n",
    "T = np.arange(0.5, 10.1, 0.5)\n",
    "Time = pd.DataFrame(T, columns=['T'])\n",
    "Time['T2'] = Time['T']**2\n",
    "Time['T3'] = Time['T']**3\n",
    "Time['T4'] = Time['T']**4\n",
    "Time['T5'] = Time['T']**5\n",
    "Time.head()\n",
    "\n",
    "Z = np.exp((betas*Time).sum(axis=1))\n",
    "disc = Z\n"
   ]
  },
  {
   "cell_type": "code",
   "execution_count": 32,
   "metadata": {
    "collapsed": false
   },
   "outputs": [],
   "source": [
    "df=pd.read_excel('HW1_data.xls')\n",
    "df.head()\n",
    "df['discount']=df['Price']/100\n",
    "df['T2']=np.power(df['Maturity'],2)\n",
    "df['T3']=np.power(df['Maturity'],3)\n",
    "df['T4']=np.power(df['Maturity'],4)\n",
    "df['T5']=np.power(df['Maturity'],5)\n",
    "df['logZ']=np.log(df['discount'])\n",
    "olsm=sm.OLS(df['logZ'],df[['Maturity','T2','T3','T4','T5']])\n",
    "res=olsm.fit()\n",
    "res.summary()\n",
    "def discou(T,pram=res.params):\n",
    "    return np.exp(pram[0]*T+pram[1]*T**2+pram[2]*T**3+pram[3]*T**4+pram[4]*T**5)\n",
    "\n",
    "disc=[discou((T+1)/2) for T in range(20)]"
   ]
  },
  {
   "cell_type": "code",
   "execution_count": 33,
   "metadata": {
    "collapsed": false
   },
   "outputs": [
    {
     "data": {
      "text/plain": [
       "0.10606601717798213"
      ]
     },
     "execution_count": 33,
     "metadata": {},
     "output_type": "execute_result"
    }
   ],
   "source": [
    "sigma=np.sqrt(2)*0.15/2\n",
    "sigma"
   ]
  },
  {
   "cell_type": "code",
   "execution_count": null,
   "metadata": {
    "collapsed": false
   },
   "outputs": [],
   "source": []
  },
  {
   "cell_type": "code",
   "execution_count": 34,
   "metadata": {
    "collapsed": false
   },
   "outputs": [],
   "source": [
    "r0=(1/disc[0]-1)*2\n"
   ]
  },
  {
   "cell_type": "code",
   "execution_count": 35,
   "metadata": {
    "collapsed": true
   },
   "outputs": [],
   "source": [
    "def discoutTree(BT):\n",
    "    Bt = BT[:]\n",
    "    Bt.reverse()\n",
    "    values = []\n",
    "    for branch in Bt:\n",
    "        temp=[]\n",
    "        if len(values)==0:\n",
    "            for r in branch:\n",
    "                values.append(1/(1+r/2))\n",
    "        else:\n",
    "            for ind in range(len(branch)):\n",
    "                temp.append((0.5*values[ind]+ 0.5*values[ind+1])/(1+branch[ind]/2))\n",
    "            values=temp[:]\n",
    "    return(values[0])\n",
    "\n",
    "def calculateVolatility(BT):\n",
    "    T = len(BT)\n",
    "    u_Bt = BT[:]\n",
    "    upper_subtree = [i[:-1] for i in u_Bt[1:]]\n",
    "    d_Bt = BT[:]\n",
    "    down_subtree = [i[1:] for i in u_Bt[1:]]\n",
    "    ZCB_u = discoutTree(upper_subtree)\n",
    "    ZCB_d = discoutTree(down_subtree)\n",
    "\n",
    "    r_u = 2*(1/ZCB_u)**(1/(T-1)) - 2\n",
    "    r_d = 2*(1/ZCB_d)**(1/(T-1)) - 2\n",
    "    \n",
    "    return(np.log(r_u/r_d)/(2*np.sqrt(0.5)))\n",
    "\n",
    "\n",
    "    \n",
    "def find_BDT(m2, disc, Bt):\n",
    "    BT=Bt[:]\n",
    "    m, sigma = m2\n",
    "    new_branch = [i*np.exp(m+sigma) for i in BT[-1]]\n",
    "    last = BT[-1][-1]*np.exp(m-sigma)\n",
    "    new_branch.append(last)\n",
    "    BT.append(new_branch)\n",
    "    Bt = BT[:]\n",
    "    Bt.reverse()\n",
    "    values = []\n",
    "    for branch in Bt:\n",
    "        temp=[]\n",
    "        if len(values)==0:\n",
    "            for r in branch:\n",
    "                values.append(1/(1+r/2))\n",
    "        else:\n",
    "            for ind in range(len(branch)):\n",
    "                temp.append((0.5*values[ind]+ 0.5*values[ind+1])/(1+branch[ind]/2))\n",
    "            values=temp[:]\n",
    "            \n",
    "    vol = calculateVolatility(BT)\n",
    "    return([values[0] - disc,vol - 0.15])\n",
    "    \n",
    "    \n",
    "def generate_new_tree(Bt , m , sigma=sigma):\n",
    "    BT=Bt[:]\n",
    "    new_branch = [i*np.exp(m+sigma) for i in BT[-1]]\n",
    "    last = BT[-1][-1]*np.exp(m-sigma)\n",
    "    new_branch.append(last)\n",
    "    BT.append(new_branch)\n",
    "    return BT"
   ]
  },
  {
   "cell_type": "code",
   "execution_count": null,
   "metadata": {
    "collapsed": false
   },
   "outputs": [],
   "source": []
  },
  {
   "cell_type": "code",
   "execution_count": 37,
   "metadata": {
    "collapsed": false
   },
   "outputs": [
    {
     "data": {
      "text/html": [
       "<div>\n",
       "<table border=\"1\" class=\"dataframe\">\n",
       "  <thead>\n",
       "    <tr style=\"text-align: right;\">\n",
       "      <th></th>\n",
       "      <th>0</th>\n",
       "      <th>1</th>\n",
       "      <th>2</th>\n",
       "      <th>3</th>\n",
       "      <th>4</th>\n",
       "      <th>5</th>\n",
       "      <th>6</th>\n",
       "      <th>7</th>\n",
       "      <th>8</th>\n",
       "      <th>9</th>\n",
       "      <th>10</th>\n",
       "      <th>11</th>\n",
       "      <th>12</th>\n",
       "      <th>13</th>\n",
       "      <th>14</th>\n",
       "      <th>15</th>\n",
       "      <th>16</th>\n",
       "      <th>17</th>\n",
       "      <th>18</th>\n",
       "      <th>19</th>\n",
       "    </tr>\n",
       "  </thead>\n",
       "  <tbody>\n",
       "    <tr>\n",
       "      <th>0</th>\n",
       "      <td>0.03343146</td>\n",
       "      <td>0.03821148</td>\n",
       "      <td>0.04366112</td>\n",
       "      <td>0.04986403</td>\n",
       "      <td>0.05691362</td>\n",
       "      <td>0.06491422</td>\n",
       "      <td>0.07398241</td>\n",
       "      <td>0.08424853</td>\n",
       "      <td>0.09585833</td>\n",
       "      <td>0.10897497</td>\n",
       "      <td>0.12378112</td>\n",
       "      <td>0.14048154</td>\n",
       "      <td>0.15930581</td>\n",
       "      <td>0.18051167</td>\n",
       "      <td>0.20438860</td>\n",
       "      <td>0.23126209</td>\n",
       "      <td>0.26149845</td>\n",
       "      <td>0.29551026</td>\n",
       "      <td>0.33376296</td>\n",
       "      <td>0.37678110</td>\n",
       "    </tr>\n",
       "    <tr>\n",
       "      <th>1</th>\n",
       "      <td>nan</td>\n",
       "      <td>0.03090766</td>\n",
       "      <td>0.03531565</td>\n",
       "      <td>0.04033292</td>\n",
       "      <td>0.04603503</td>\n",
       "      <td>0.05250638</td>\n",
       "      <td>0.05984126</td>\n",
       "      <td>0.06814508</td>\n",
       "      <td>0.07753577</td>\n",
       "      <td>0.08814526</td>\n",
       "      <td>0.10012134</td>\n",
       "      <td>0.11362960</td>\n",
       "      <td>0.12885576</td>\n",
       "      <td>0.14600829</td>\n",
       "      <td>0.16532133</td>\n",
       "      <td>0.18705817</td>\n",
       "      <td>0.21151508</td>\n",
       "      <td>0.23902581</td>\n",
       "      <td>0.26996680</td>\n",
       "      <td>0.30476236</td>\n",
       "    </tr>\n",
       "    <tr>\n",
       "      <th>2</th>\n",
       "      <td>nan</td>\n",
       "      <td>nan</td>\n",
       "      <td>0.02856269</td>\n",
       "      <td>0.03262057</td>\n",
       "      <td>0.03723234</td>\n",
       "      <td>0.04246626</td>\n",
       "      <td>0.04839858</td>\n",
       "      <td>0.05511458</td>\n",
       "      <td>0.06270960</td>\n",
       "      <td>0.07129038</td>\n",
       "      <td>0.08097642</td>\n",
       "      <td>0.09190167</td>\n",
       "      <td>0.10421633</td>\n",
       "      <td>0.11808900</td>\n",
       "      <td>0.13370906</td>\n",
       "      <td>0.15128944</td>\n",
       "      <td>0.17106978</td>\n",
       "      <td>0.19331998</td>\n",
       "      <td>0.21834452</td>\n",
       "      <td>0.24648658</td>\n",
       "    </tr>\n",
       "    <tr>\n",
       "      <th>3</th>\n",
       "      <td>nan</td>\n",
       "      <td>nan</td>\n",
       "      <td>nan</td>\n",
       "      <td>0.02637470</td>\n",
       "      <td>0.03010345</td>\n",
       "      <td>0.03433523</td>\n",
       "      <td>0.03913169</td>\n",
       "      <td>0.04456177</td>\n",
       "      <td>0.05070257</td>\n",
       "      <td>0.05764039</td>\n",
       "      <td>0.06547184</td>\n",
       "      <td>0.07430523</td>\n",
       "      <td>0.08426200</td>\n",
       "      <td>0.09547846</td>\n",
       "      <td>0.10810774</td>\n",
       "      <td>0.12232200</td>\n",
       "      <td>0.13831499</td>\n",
       "      <td>0.15630494</td>\n",
       "      <td>0.17653803</td>\n",
       "      <td>0.19929171</td>\n",
       "    </tr>\n",
       "    <tr>\n",
       "      <th>4</th>\n",
       "      <td>nan</td>\n",
       "      <td>nan</td>\n",
       "      <td>nan</td>\n",
       "      <td>nan</td>\n",
       "      <td>0.02432586</td>\n",
       "      <td>0.02774545</td>\n",
       "      <td>0.03162135</td>\n",
       "      <td>0.03600926</td>\n",
       "      <td>0.04097150</td>\n",
       "      <td>0.04657777</td>\n",
       "      <td>0.05290618</td>\n",
       "      <td>0.06004422</td>\n",
       "      <td>0.06809004</td>\n",
       "      <td>0.07715378</td>\n",
       "      <td>0.08735919</td>\n",
       "      <td>0.09884539</td>\n",
       "      <td>0.11176892</td>\n",
       "      <td>0.12630615</td>\n",
       "      <td>0.14265601</td>\n",
       "      <td>0.16104270</td>\n",
       "    </tr>\n",
       "    <tr>\n",
       "      <th>5</th>\n",
       "      <td>nan</td>\n",
       "      <td>nan</td>\n",
       "      <td>nan</td>\n",
       "      <td>nan</td>\n",
       "      <td>nan</td>\n",
       "      <td>0.02240161</td>\n",
       "      <td>0.02553100</td>\n",
       "      <td>0.02907379</td>\n",
       "      <td>0.03308028</td>\n",
       "      <td>0.03760678</td>\n",
       "      <td>0.04271631</td>\n",
       "      <td>0.04847955</td>\n",
       "      <td>0.05497572</td>\n",
       "      <td>0.06229377</td>\n",
       "      <td>0.07053359</td>\n",
       "      <td>0.07980752</td>\n",
       "      <td>0.09024195</td>\n",
       "      <td>0.10197927</td>\n",
       "      <td>0.11518011</td>\n",
       "      <td>0.13002547</td>\n",
       "    </tr>\n",
       "    <tr>\n",
       "      <th>6</th>\n",
       "      <td>nan</td>\n",
       "      <td>nan</td>\n",
       "      <td>nan</td>\n",
       "      <td>nan</td>\n",
       "      <td>nan</td>\n",
       "      <td>nan</td>\n",
       "      <td>0.02059014</td>\n",
       "      <td>0.02344731</td>\n",
       "      <td>0.02667845</td>\n",
       "      <td>0.03032896</td>\n",
       "      <td>0.03444968</td>\n",
       "      <td>0.03909759</td>\n",
       "      <td>0.04433660</td>\n",
       "      <td>0.05023842</td>\n",
       "      <td>0.05688364</td>\n",
       "      <td>0.06436284</td>\n",
       "      <td>0.07277796</td>\n",
       "      <td>0.08224383</td>\n",
       "      <td>0.09288998</td>\n",
       "      <td>0.10486241</td>\n",
       "    </tr>\n",
       "    <tr>\n",
       "      <th>7</th>\n",
       "      <td>nan</td>\n",
       "      <td>nan</td>\n",
       "      <td>nan</td>\n",
       "      <td>nan</td>\n",
       "      <td>nan</td>\n",
       "      <td>nan</td>\n",
       "      <td>nan</td>\n",
       "      <td>0.01888194</td>\n",
       "      <td>0.02148396</td>\n",
       "      <td>0.02442368</td>\n",
       "      <td>0.02774207</td>\n",
       "      <td>0.03148499</td>\n",
       "      <td>0.03570393</td>\n",
       "      <td>0.04045662</td>\n",
       "      <td>0.04580797</td>\n",
       "      <td>0.05183091</td>\n",
       "      <td>0.05860754</td>\n",
       "      <td>0.06623033</td>\n",
       "      <td>0.07480360</td>\n",
       "      <td>0.08444491</td>\n",
       "    </tr>\n",
       "    <tr>\n",
       "      <th>8</th>\n",
       "      <td>nan</td>\n",
       "      <td>nan</td>\n",
       "      <td>nan</td>\n",
       "      <td>nan</td>\n",
       "      <td>nan</td>\n",
       "      <td>nan</td>\n",
       "      <td>nan</td>\n",
       "      <td>nan</td>\n",
       "      <td>0.01726949</td>\n",
       "      <td>0.01963253</td>\n",
       "      <td>0.02229995</td>\n",
       "      <td>0.02530864</td>\n",
       "      <td>0.02869995</td>\n",
       "      <td>0.03252032</td>\n",
       "      <td>0.03682190</td>\n",
       "      <td>0.04166333</td>\n",
       "      <td>0.04711060</td>\n",
       "      <td>0.05323805</td>\n",
       "      <td>0.06012951</td>\n",
       "      <td>0.06787950</td>\n",
       "    </tr>\n",
       "    <tr>\n",
       "      <th>9</th>\n",
       "      <td>nan</td>\n",
       "      <td>nan</td>\n",
       "      <td>nan</td>\n",
       "      <td>nan</td>\n",
       "      <td>nan</td>\n",
       "      <td>nan</td>\n",
       "      <td>nan</td>\n",
       "      <td>nan</td>\n",
       "      <td>nan</td>\n",
       "      <td>0.01574689</td>\n",
       "      <td>0.01788638</td>\n",
       "      <td>0.02029959</td>\n",
       "      <td>0.02301970</td>\n",
       "      <td>0.02608394</td>\n",
       "      <td>0.02953416</td>\n",
       "      <td>0.03341738</td>\n",
       "      <td>0.03778654</td>\n",
       "      <td>0.04270124</td>\n",
       "      <td>0.04822876</td>\n",
       "      <td>0.05444488</td>\n",
       "    </tr>\n",
       "    <tr>\n",
       "      <th>10</th>\n",
       "      <td>nan</td>\n",
       "      <td>nan</td>\n",
       "      <td>nan</td>\n",
       "      <td>nan</td>\n",
       "      <td>nan</td>\n",
       "      <td>nan</td>\n",
       "      <td>nan</td>\n",
       "      <td>nan</td>\n",
       "      <td>nan</td>\n",
       "      <td>nan</td>\n",
       "      <td>0.01430966</td>\n",
       "      <td>0.01624031</td>\n",
       "      <td>0.01841648</td>\n",
       "      <td>0.02086797</td>\n",
       "      <td>0.02362826</td>\n",
       "      <td>0.02673496</td>\n",
       "      <td>0.03023042</td>\n",
       "      <td>0.03416234</td>\n",
       "      <td>0.03858452</td>\n",
       "      <td>0.04355762</td>\n",
       "    </tr>\n",
       "    <tr>\n",
       "      <th>11</th>\n",
       "      <td>nan</td>\n",
       "      <td>nan</td>\n",
       "      <td>nan</td>\n",
       "      <td>nan</td>\n",
       "      <td>nan</td>\n",
       "      <td>nan</td>\n",
       "      <td>nan</td>\n",
       "      <td>nan</td>\n",
       "      <td>nan</td>\n",
       "      <td>nan</td>\n",
       "      <td>nan</td>\n",
       "      <td>0.01295448</td>\n",
       "      <td>0.01469035</td>\n",
       "      <td>0.01664585</td>\n",
       "      <td>0.01884765</td>\n",
       "      <td>0.02132579</td>\n",
       "      <td>0.02411403</td>\n",
       "      <td>0.02725042</td>\n",
       "      <td>0.03077789</td>\n",
       "      <td>0.03474480</td>\n",
       "    </tr>\n",
       "    <tr>\n",
       "      <th>12</th>\n",
       "      <td>nan</td>\n",
       "      <td>nan</td>\n",
       "      <td>nan</td>\n",
       "      <td>nan</td>\n",
       "      <td>nan</td>\n",
       "      <td>nan</td>\n",
       "      <td>nan</td>\n",
       "      <td>nan</td>\n",
       "      <td>nan</td>\n",
       "      <td>nan</td>\n",
       "      <td>nan</td>\n",
       "      <td>nan</td>\n",
       "      <td>0.01167890</td>\n",
       "      <td>0.01323353</td>\n",
       "      <td>0.01498397</td>\n",
       "      <td>0.01695410</td>\n",
       "      <td>0.01917076</td>\n",
       "      <td>0.02166421</td>\n",
       "      <td>0.02446856</td>\n",
       "      <td>0.02762227</td>\n",
       "    </tr>\n",
       "    <tr>\n",
       "      <th>13</th>\n",
       "      <td>nan</td>\n",
       "      <td>nan</td>\n",
       "      <td>nan</td>\n",
       "      <td>nan</td>\n",
       "      <td>nan</td>\n",
       "      <td>nan</td>\n",
       "      <td>nan</td>\n",
       "      <td>nan</td>\n",
       "      <td>nan</td>\n",
       "      <td>nan</td>\n",
       "      <td>nan</td>\n",
       "      <td>nan</td>\n",
       "      <td>nan</td>\n",
       "      <td>0.01048118</td>\n",
       "      <td>0.01186756</td>\n",
       "      <td>0.01342794</td>\n",
       "      <td>0.01518357</td>\n",
       "      <td>0.01715843</td>\n",
       "      <td>0.01937952</td>\n",
       "      <td>0.02187731</td>\n",
       "    </tr>\n",
       "    <tr>\n",
       "      <th>14</th>\n",
       "      <td>nan</td>\n",
       "      <td>nan</td>\n",
       "      <td>nan</td>\n",
       "      <td>nan</td>\n",
       "      <td>nan</td>\n",
       "      <td>nan</td>\n",
       "      <td>nan</td>\n",
       "      <td>nan</td>\n",
       "      <td>nan</td>\n",
       "      <td>nan</td>\n",
       "      <td>nan</td>\n",
       "      <td>nan</td>\n",
       "      <td>nan</td>\n",
       "      <td>nan</td>\n",
       "      <td>0.00936005</td>\n",
       "      <td>0.01059073</td>\n",
       "      <td>0.01197541</td>\n",
       "      <td>0.01353299</td>\n",
       "      <td>0.01528479</td>\n",
       "      <td>0.01725482</td>\n",
       "    </tr>\n",
       "    <tr>\n",
       "      <th>15</th>\n",
       "      <td>nan</td>\n",
       "      <td>nan</td>\n",
       "      <td>nan</td>\n",
       "      <td>nan</td>\n",
       "      <td>nan</td>\n",
       "      <td>nan</td>\n",
       "      <td>nan</td>\n",
       "      <td>nan</td>\n",
       "      <td>nan</td>\n",
       "      <td>nan</td>\n",
       "      <td>nan</td>\n",
       "      <td>nan</td>\n",
       "      <td>nan</td>\n",
       "      <td>nan</td>\n",
       "      <td>nan</td>\n",
       "      <td>0.00831449</td>\n",
       "      <td>0.00940157</td>\n",
       "      <td>0.01062438</td>\n",
       "      <td>0.01199967</td>\n",
       "      <td>0.01354629</td>\n",
       "    </tr>\n",
       "    <tr>\n",
       "      <th>16</th>\n",
       "      <td>nan</td>\n",
       "      <td>nan</td>\n",
       "      <td>nan</td>\n",
       "      <td>nan</td>\n",
       "      <td>nan</td>\n",
       "      <td>nan</td>\n",
       "      <td>nan</td>\n",
       "      <td>nan</td>\n",
       "      <td>nan</td>\n",
       "      <td>nan</td>\n",
       "      <td>nan</td>\n",
       "      <td>nan</td>\n",
       "      <td>nan</td>\n",
       "      <td>nan</td>\n",
       "      <td>nan</td>\n",
       "      <td>nan</td>\n",
       "      <td>0.00734365</td>\n",
       "      <td>0.00829880</td>\n",
       "      <td>0.00937305</td>\n",
       "      <td>0.01058112</td>\n",
       "    </tr>\n",
       "    <tr>\n",
       "      <th>17</th>\n",
       "      <td>nan</td>\n",
       "      <td>nan</td>\n",
       "      <td>nan</td>\n",
       "      <td>nan</td>\n",
       "      <td>nan</td>\n",
       "      <td>nan</td>\n",
       "      <td>nan</td>\n",
       "      <td>nan</td>\n",
       "      <td>nan</td>\n",
       "      <td>nan</td>\n",
       "      <td>nan</td>\n",
       "      <td>nan</td>\n",
       "      <td>nan</td>\n",
       "      <td>nan</td>\n",
       "      <td>nan</td>\n",
       "      <td>nan</td>\n",
       "      <td>nan</td>\n",
       "      <td>0.00644648</td>\n",
       "      <td>0.00728096</td>\n",
       "      <td>0.00821939</td>\n",
       "    </tr>\n",
       "    <tr>\n",
       "      <th>18</th>\n",
       "      <td>nan</td>\n",
       "      <td>nan</td>\n",
       "      <td>nan</td>\n",
       "      <td>nan</td>\n",
       "      <td>nan</td>\n",
       "      <td>nan</td>\n",
       "      <td>nan</td>\n",
       "      <td>nan</td>\n",
       "      <td>nan</td>\n",
       "      <td>nan</td>\n",
       "      <td>nan</td>\n",
       "      <td>nan</td>\n",
       "      <td>nan</td>\n",
       "      <td>nan</td>\n",
       "      <td>nan</td>\n",
       "      <td>nan</td>\n",
       "      <td>nan</td>\n",
       "      <td>nan</td>\n",
       "      <td>0.00000000</td>\n",
       "      <td>0.00000000</td>\n",
       "    </tr>\n",
       "    <tr>\n",
       "      <th>19</th>\n",
       "      <td>nan</td>\n",
       "      <td>nan</td>\n",
       "      <td>nan</td>\n",
       "      <td>nan</td>\n",
       "      <td>nan</td>\n",
       "      <td>nan</td>\n",
       "      <td>nan</td>\n",
       "      <td>nan</td>\n",
       "      <td>nan</td>\n",
       "      <td>nan</td>\n",
       "      <td>nan</td>\n",
       "      <td>nan</td>\n",
       "      <td>nan</td>\n",
       "      <td>nan</td>\n",
       "      <td>nan</td>\n",
       "      <td>nan</td>\n",
       "      <td>nan</td>\n",
       "      <td>nan</td>\n",
       "      <td>nan</td>\n",
       "      <td>0.13083162</td>\n",
       "    </tr>\n",
       "  </tbody>\n",
       "</table>\n",
       "</div>"
      ],
      "text/plain": [
       "           0          1          2          3          4          5   \\\n",
       "0  0.03343146 0.03821148 0.04366112 0.04986403 0.05691362 0.06491422   \n",
       "1         nan 0.03090766 0.03531565 0.04033292 0.04603503 0.05250638   \n",
       "2         nan        nan 0.02856269 0.03262057 0.03723234 0.04246626   \n",
       "3         nan        nan        nan 0.02637470 0.03010345 0.03433523   \n",
       "4         nan        nan        nan        nan 0.02432586 0.02774545   \n",
       "5         nan        nan        nan        nan        nan 0.02240161   \n",
       "6         nan        nan        nan        nan        nan        nan   \n",
       "7         nan        nan        nan        nan        nan        nan   \n",
       "8         nan        nan        nan        nan        nan        nan   \n",
       "9         nan        nan        nan        nan        nan        nan   \n",
       "10        nan        nan        nan        nan        nan        nan   \n",
       "11        nan        nan        nan        nan        nan        nan   \n",
       "12        nan        nan        nan        nan        nan        nan   \n",
       "13        nan        nan        nan        nan        nan        nan   \n",
       "14        nan        nan        nan        nan        nan        nan   \n",
       "15        nan        nan        nan        nan        nan        nan   \n",
       "16        nan        nan        nan        nan        nan        nan   \n",
       "17        nan        nan        nan        nan        nan        nan   \n",
       "18        nan        nan        nan        nan        nan        nan   \n",
       "19        nan        nan        nan        nan        nan        nan   \n",
       "\n",
       "           6          7          8          9          10         11  \\\n",
       "0  0.07398241 0.08424853 0.09585833 0.10897497 0.12378112 0.14048154   \n",
       "1  0.05984126 0.06814508 0.07753577 0.08814526 0.10012134 0.11362960   \n",
       "2  0.04839858 0.05511458 0.06270960 0.07129038 0.08097642 0.09190167   \n",
       "3  0.03913169 0.04456177 0.05070257 0.05764039 0.06547184 0.07430523   \n",
       "4  0.03162135 0.03600926 0.04097150 0.04657777 0.05290618 0.06004422   \n",
       "5  0.02553100 0.02907379 0.03308028 0.03760678 0.04271631 0.04847955   \n",
       "6  0.02059014 0.02344731 0.02667845 0.03032896 0.03444968 0.03909759   \n",
       "7         nan 0.01888194 0.02148396 0.02442368 0.02774207 0.03148499   \n",
       "8         nan        nan 0.01726949 0.01963253 0.02229995 0.02530864   \n",
       "9         nan        nan        nan 0.01574689 0.01788638 0.02029959   \n",
       "10        nan        nan        nan        nan 0.01430966 0.01624031   \n",
       "11        nan        nan        nan        nan        nan 0.01295448   \n",
       "12        nan        nan        nan        nan        nan        nan   \n",
       "13        nan        nan        nan        nan        nan        nan   \n",
       "14        nan        nan        nan        nan        nan        nan   \n",
       "15        nan        nan        nan        nan        nan        nan   \n",
       "16        nan        nan        nan        nan        nan        nan   \n",
       "17        nan        nan        nan        nan        nan        nan   \n",
       "18        nan        nan        nan        nan        nan        nan   \n",
       "19        nan        nan        nan        nan        nan        nan   \n",
       "\n",
       "           12         13         14         15         16         17  \\\n",
       "0  0.15930581 0.18051167 0.20438860 0.23126209 0.26149845 0.29551026   \n",
       "1  0.12885576 0.14600829 0.16532133 0.18705817 0.21151508 0.23902581   \n",
       "2  0.10421633 0.11808900 0.13370906 0.15128944 0.17106978 0.19331998   \n",
       "3  0.08426200 0.09547846 0.10810774 0.12232200 0.13831499 0.15630494   \n",
       "4  0.06809004 0.07715378 0.08735919 0.09884539 0.11176892 0.12630615   \n",
       "5  0.05497572 0.06229377 0.07053359 0.07980752 0.09024195 0.10197927   \n",
       "6  0.04433660 0.05023842 0.05688364 0.06436284 0.07277796 0.08224383   \n",
       "7  0.03570393 0.04045662 0.04580797 0.05183091 0.05860754 0.06623033   \n",
       "8  0.02869995 0.03252032 0.03682190 0.04166333 0.04711060 0.05323805   \n",
       "9  0.02301970 0.02608394 0.02953416 0.03341738 0.03778654 0.04270124   \n",
       "10 0.01841648 0.02086797 0.02362826 0.02673496 0.03023042 0.03416234   \n",
       "11 0.01469035 0.01664585 0.01884765 0.02132579 0.02411403 0.02725042   \n",
       "12 0.01167890 0.01323353 0.01498397 0.01695410 0.01917076 0.02166421   \n",
       "13        nan 0.01048118 0.01186756 0.01342794 0.01518357 0.01715843   \n",
       "14        nan        nan 0.00936005 0.01059073 0.01197541 0.01353299   \n",
       "15        nan        nan        nan 0.00831449 0.00940157 0.01062438   \n",
       "16        nan        nan        nan        nan 0.00734365 0.00829880   \n",
       "17        nan        nan        nan        nan        nan 0.00644648   \n",
       "18        nan        nan        nan        nan        nan        nan   \n",
       "19        nan        nan        nan        nan        nan        nan   \n",
       "\n",
       "           18         19  \n",
       "0  0.33376296 0.37678110  \n",
       "1  0.26996680 0.30476236  \n",
       "2  0.21834452 0.24648658  \n",
       "3  0.17653803 0.19929171  \n",
       "4  0.14265601 0.16104270  \n",
       "5  0.11518011 0.13002547  \n",
       "6  0.09288998 0.10486241  \n",
       "7  0.07480360 0.08444491  \n",
       "8  0.06012951 0.06787950  \n",
       "9  0.04822876 0.05444488  \n",
       "10 0.03858452 0.04355762  \n",
       "11 0.03077789 0.03474480  \n",
       "12 0.02446856 0.02762227  \n",
       "13 0.01937952 0.02187731  \n",
       "14 0.01528479 0.01725482  \n",
       "15 0.01199967 0.01354629  \n",
       "16 0.00937305 0.01058112  \n",
       "17 0.00728096 0.00821939  \n",
       "18 0.00000000 0.00000000  \n",
       "19        nan 0.13083162  "
      ]
     },
     "execution_count": 37,
     "metadata": {},
     "output_type": "execute_result"
    }
   ],
   "source": [
    "bt = [[r0]]\n",
    "mt= []\n",
    "sig_t = []\n",
    "for dis in disc[1:]:\n",
    "    [m,sig] = sp.optimize.fsolve(find_BDT,[0.1, 0.1] ,xtol=1e-12,args=(dis ,bt))\n",
    "    mt.append(m)\n",
    "    sig_t.append(sig)\n",
    "    BT = generate_new_tree(bt, m , sigma = sig)\n",
    "    bt = BT[:]\n",
    "    \n",
    "pd.DataFrame(bt).T\n",
    "\n",
    "\n",
    "\n",
    "BT= bt[:]\n",
    "BT.reverse()\n",
    "values = []\n",
    "value_tree = []\n",
    "for branch in BT:\n",
    "    temp = []\n",
    "\n",
    "    if len(values)==0:\n",
    "        for r in branch:\n",
    "            values.append(100/(1+r/2))\n",
    "    else:\n",
    "        for ind in range(len(branch)):\n",
    "            temp.append((0.5*values[ind]+0.5*values[ind+1])/(1+branch[ind]/2))\n",
    "        values = temp[:]\n",
    "    value_tree.append(values)\n",
    "\n",
    "    \n",
    "value_tree.reverse()\n",
    "\n",
    "\n",
    "(pd.DataFrame(bt).T)"
   ]
  },
  {
   "cell_type": "code",
   "execution_count": 41,
   "metadata": {
    "collapsed": false
   },
   "outputs": [
    {
     "name": "stdout",
     "output_type": "stream",
     "text": [
      "1\n",
      "0.15\n",
      "2\n",
      "0.15\n",
      "3\n",
      "0.15\n",
      "4\n",
      "0.15\n",
      "5\n",
      "0.15\n",
      "6\n",
      "0.15\n",
      "7\n",
      "0.15\n",
      "8\n",
      "0.15\n",
      "9\n",
      "0.15\n",
      "10\n",
      "0.15\n"
     ]
    }
   ],
   "source": [
    "#print(pd.DataFrame([i[:-1] for i in bt[1:]]).T)\n",
    "#test if the volatility is the constant at 0.15\n",
    "for i in range(1,11):\n",
    "    print(i) \n",
    "    print(calculateVolatility(bt[:10]))"
   ]
  },
  {
   "cell_type": "code",
   "execution_count": null,
   "metadata": {
    "collapsed": false
   },
   "outputs": [],
   "source": []
  },
  {
   "cell_type": "markdown",
   "metadata": {},
   "source": [
    "### (b)\n",
    "\n",
    "We assume the bond pay semi-annual coupon"
   ]
  },
  {
   "cell_type": "code",
   "execution_count": null,
   "metadata": {
    "collapsed": false
   },
   "outputs": [],
   "source": []
  },
  {
   "cell_type": "code",
   "execution_count": 42,
   "metadata": {
    "collapsed": false
   },
   "outputs": [
    {
     "name": "stdout",
     "output_type": "stream",
     "text": [
      "96.0691359369\n"
     ]
    },
    {
     "data": {
      "text/html": [
       "<div>\n",
       "<table border=\"1\" class=\"dataframe\">\n",
       "  <thead>\n",
       "    <tr style=\"text-align: right;\">\n",
       "      <th></th>\n",
       "      <th>0</th>\n",
       "      <th>1</th>\n",
       "      <th>2</th>\n",
       "      <th>3</th>\n",
       "      <th>4</th>\n",
       "      <th>5</th>\n",
       "      <th>6</th>\n",
       "      <th>7</th>\n",
       "      <th>8</th>\n",
       "      <th>9</th>\n",
       "      <th>10</th>\n",
       "      <th>11</th>\n",
       "      <th>12</th>\n",
       "      <th>13</th>\n",
       "      <th>14</th>\n",
       "      <th>15</th>\n",
       "      <th>16</th>\n",
       "      <th>17</th>\n",
       "      <th>18</th>\n",
       "      <th>19</th>\n",
       "    </tr>\n",
       "  </thead>\n",
       "  <tbody>\n",
       "    <tr>\n",
       "      <th>0</th>\n",
       "      <td>96.06913594</td>\n",
       "      <td>93.01116133</td>\n",
       "      <td>89.69677984</td>\n",
       "      <td>86.25574527</td>\n",
       "      <td>82.81395729</td>\n",
       "      <td>79.46042390</td>\n",
       "      <td>76.26099375</td>\n",
       "      <td>73.26832155</td>\n",
       "      <td>70.52944677</td>\n",
       "      <td>68.09191136</td>\n",
       "      <td>66.00899212</td>\n",
       "      <td>64.34465118</td>\n",
       "      <td>63.17918154</td>\n",
       "      <td>62.61699250</td>\n",
       "      <td>62.79839953</td>\n",
       "      <td>63.91797814</td>\n",
       "      <td>66.25371144</td>\n",
       "      <td>70.21436637</td>\n",
       "      <td>76.41853603</td>\n",
       "      <td>85.83036961</td>\n",
       "    </tr>\n",
       "    <tr>\n",
       "      <th>1</th>\n",
       "      <td>nan</td>\n",
       "      <td>98.33884205</td>\n",
       "      <td>95.87963726</td>\n",
       "      <td>93.05407668</td>\n",
       "      <td>89.99859262</td>\n",
       "      <td>86.88073271</td>\n",
       "      <td>83.81796526</td>\n",
       "      <td>80.89563805</td>\n",
       "      <td>78.17994439</td>\n",
       "      <td>75.72781737</td>\n",
       "      <td>73.59514452</td>\n",
       "      <td>71.84400033</td>\n",
       "      <td>70.54935620</td>\n",
       "      <td>69.80618133</td>\n",
       "      <td>69.73868306</td>\n",
       "      <td>70.51409767</td>\n",
       "      <td>72.36405031</td>\n",
       "      <td>75.61829926</td>\n",
       "      <td>80.75926256</td>\n",
       "      <td>88.51237906</td>\n",
       "    </tr>\n",
       "    <tr>\n",
       "      <th>2</th>\n",
       "      <td>nan</td>\n",
       "      <td>nan</td>\n",
       "      <td>99.83747032</td>\n",
       "      <td>98.09124908</td>\n",
       "      <td>95.86270311</td>\n",
       "      <td>93.25954045</td>\n",
       "      <td>90.50529267</td>\n",
       "      <td>87.75606481</td>\n",
       "      <td>85.12397183</td>\n",
       "      <td>82.69381355</td>\n",
       "      <td>80.53553866</td>\n",
       "      <td>78.71473316</td>\n",
       "      <td>77.30224938</td>\n",
       "      <td>76.38322218</td>\n",
       "      <td>76.06596044</td>\n",
       "      <td>76.49256026</td>\n",
       "      <td>77.85438312</td>\n",
       "      <td>80.41588957</td>\n",
       "      <td>84.55206109</td>\n",
       "      <td>90.80846597</td>\n",
       "    </tr>\n",
       "    <tr>\n",
       "      <th>3</th>\n",
       "      <td>nan</td>\n",
       "      <td>nan</td>\n",
       "      <td>nan</td>\n",
       "      <td>100.43531815</td>\n",
       "      <td>99.51958774</td>\n",
       "      <td>98.03505888</td>\n",
       "      <td>95.97417194</td>\n",
       "      <td>93.63484844</td>\n",
       "      <td>91.22479619</td>\n",
       "      <td>88.89222049</td>\n",
       "      <td>86.74736176</td>\n",
       "      <td>84.87782408</td>\n",
       "      <td>83.36123257</td>\n",
       "      <td>82.27743357</td>\n",
       "      <td>81.72050221</td>\n",
       "      <td>81.81006861</td>\n",
       "      <td>82.70325425</td>\n",
       "      <td>84.61140857</td>\n",
       "      <td>87.82571611</td>\n",
       "      <td>92.75713581</td>\n",
       "    </tr>\n",
       "    <tr>\n",
       "      <th>4</th>\n",
       "      <td>nan</td>\n",
       "      <td>nan</td>\n",
       "      <td>nan</td>\n",
       "      <td>nan</td>\n",
       "      <td>100.00000000</td>\n",
       "      <td>100.00000000</td>\n",
       "      <td>99.46200207</td>\n",
       "      <td>98.06912701</td>\n",
       "      <td>96.21743535</td>\n",
       "      <td>94.18270384</td>\n",
       "      <td>92.16086118</td>\n",
       "      <td>90.29640896</td>\n",
       "      <td>88.70128174</td>\n",
       "      <td>87.46921555</td>\n",
       "      <td>86.69008756</td>\n",
       "      <td>86.46555472</td>\n",
       "      <td>86.92405447</td>\n",
       "      <td>88.23419969</td>\n",
       "      <td>90.62228205</td>\n",
       "      <td>94.39887501</td>\n",
       "    </tr>\n",
       "    <tr>\n",
       "      <th>5</th>\n",
       "      <td>nan</td>\n",
       "      <td>nan</td>\n",
       "      <td>nan</td>\n",
       "      <td>nan</td>\n",
       "      <td>nan</td>\n",
       "      <td>100.00000000</td>\n",
       "      <td>100.00000000</td>\n",
       "      <td>100.00000000</td>\n",
       "      <td>99.45221584</td>\n",
       "      <td>98.19433909</td>\n",
       "      <td>96.59136688</td>\n",
       "      <td>94.90119210</td>\n",
       "      <td>93.31331341</td>\n",
       "      <td>91.97302138</td>\n",
       "      <td>90.99692430</td>\n",
       "      <td>90.48779638</td>\n",
       "      <td>90.55377606</td>\n",
       "      <td>91.32931712</td>\n",
       "      <td>92.99063979</td>\n",
       "      <td>95.77350249</td>\n",
       "    </tr>\n",
       "    <tr>\n",
       "      <th>6</th>\n",
       "      <td>nan</td>\n",
       "      <td>nan</td>\n",
       "      <td>nan</td>\n",
       "      <td>nan</td>\n",
       "      <td>nan</td>\n",
       "      <td>nan</td>\n",
       "      <td>100.00000000</td>\n",
       "      <td>100.00000000</td>\n",
       "      <td>100.00000000</td>\n",
       "      <td>100.00000000</td>\n",
       "      <td>99.49008372</td>\n",
       "      <td>98.40756873</td>\n",
       "      <td>97.08983791</td>\n",
       "      <td>95.78357240</td>\n",
       "      <td>94.67846465</td>\n",
       "      <td>93.92439215</td>\n",
       "      <td>93.64342294</td>\n",
       "      <td>93.94998403</td>\n",
       "      <td>94.98169169</td>\n",
       "      <td>96.91844885</td>\n",
       "    </tr>\n",
       "    <tr>\n",
       "      <th>7</th>\n",
       "      <td>nan</td>\n",
       "      <td>nan</td>\n",
       "      <td>nan</td>\n",
       "      <td>nan</td>\n",
       "      <td>nan</td>\n",
       "      <td>nan</td>\n",
       "      <td>nan</td>\n",
       "      <td>100.00000000</td>\n",
       "      <td>100.00000000</td>\n",
       "      <td>100.00000000</td>\n",
       "      <td>100.00000000</td>\n",
       "      <td>100.00000000</td>\n",
       "      <td>99.57279826</td>\n",
       "      <td>98.70073643</td>\n",
       "      <td>97.70069589</td>\n",
       "      <td>96.81819310</td>\n",
       "      <td>96.25060186</td>\n",
       "      <td>96.15203875</td>\n",
       "      <td>96.64508250</td>\n",
       "      <td>97.86778203</td>\n",
       "    </tr>\n",
       "    <tr>\n",
       "      <th>8</th>\n",
       "      <td>nan</td>\n",
       "      <td>nan</td>\n",
       "      <td>nan</td>\n",
       "      <td>nan</td>\n",
       "      <td>nan</td>\n",
       "      <td>nan</td>\n",
       "      <td>nan</td>\n",
       "      <td>nan</td>\n",
       "      <td>100.00000000</td>\n",
       "      <td>100.00000000</td>\n",
       "      <td>100.00000000</td>\n",
       "      <td>100.00000000</td>\n",
       "      <td>100.00000000</td>\n",
       "      <td>100.00000000</td>\n",
       "      <td>99.69387555</td>\n",
       "      <td>99.05866904</td>\n",
       "      <td>98.40395923</td>\n",
       "      <td>97.99017585</td>\n",
       "      <td>98.02717647</td>\n",
       "      <td>98.65178309</td>\n",
       "    </tr>\n",
       "    <tr>\n",
       "      <th>9</th>\n",
       "      <td>nan</td>\n",
       "      <td>nan</td>\n",
       "      <td>nan</td>\n",
       "      <td>nan</td>\n",
       "      <td>nan</td>\n",
       "      <td>nan</td>\n",
       "      <td>nan</td>\n",
       "      <td>nan</td>\n",
       "      <td>nan</td>\n",
       "      <td>100.00000000</td>\n",
       "      <td>100.00000000</td>\n",
       "      <td>100.00000000</td>\n",
       "      <td>100.00000000</td>\n",
       "      <td>100.00000000</td>\n",
       "      <td>100.00000000</td>\n",
       "      <td>100.00000000</td>\n",
       "      <td>99.84049298</td>\n",
       "      <td>99.45361236</td>\n",
       "      <td>99.16998068</td>\n",
       "      <td>99.29689603</td>\n",
       "    </tr>\n",
       "    <tr>\n",
       "      <th>10</th>\n",
       "      <td>nan</td>\n",
       "      <td>nan</td>\n",
       "      <td>nan</td>\n",
       "      <td>nan</td>\n",
       "      <td>nan</td>\n",
       "      <td>nan</td>\n",
       "      <td>nan</td>\n",
       "      <td>nan</td>\n",
       "      <td>nan</td>\n",
       "      <td>nan</td>\n",
       "      <td>100.00000000</td>\n",
       "      <td>100.00000000</td>\n",
       "      <td>100.00000000</td>\n",
       "      <td>100.00000000</td>\n",
       "      <td>100.00000000</td>\n",
       "      <td>100.00000000</td>\n",
       "      <td>100.00000000</td>\n",
       "      <td>100.00000000</td>\n",
       "      <td>99.98403707</td>\n",
       "      <td>99.82591060</td>\n",
       "    </tr>\n",
       "    <tr>\n",
       "      <th>11</th>\n",
       "      <td>nan</td>\n",
       "      <td>nan</td>\n",
       "      <td>nan</td>\n",
       "      <td>nan</td>\n",
       "      <td>nan</td>\n",
       "      <td>nan</td>\n",
       "      <td>nan</td>\n",
       "      <td>nan</td>\n",
       "      <td>nan</td>\n",
       "      <td>nan</td>\n",
       "      <td>nan</td>\n",
       "      <td>100.00000000</td>\n",
       "      <td>100.00000000</td>\n",
       "      <td>100.00000000</td>\n",
       "      <td>100.00000000</td>\n",
       "      <td>100.00000000</td>\n",
       "      <td>100.00000000</td>\n",
       "      <td>100.00000000</td>\n",
       "      <td>100.00000000</td>\n",
       "      <td>100.00000000</td>\n",
       "    </tr>\n",
       "    <tr>\n",
       "      <th>12</th>\n",
       "      <td>nan</td>\n",
       "      <td>nan</td>\n",
       "      <td>nan</td>\n",
       "      <td>nan</td>\n",
       "      <td>nan</td>\n",
       "      <td>nan</td>\n",
       "      <td>nan</td>\n",
       "      <td>nan</td>\n",
       "      <td>nan</td>\n",
       "      <td>nan</td>\n",
       "      <td>nan</td>\n",
       "      <td>nan</td>\n",
       "      <td>100.00000000</td>\n",
       "      <td>100.00000000</td>\n",
       "      <td>100.00000000</td>\n",
       "      <td>100.00000000</td>\n",
       "      <td>100.00000000</td>\n",
       "      <td>100.00000000</td>\n",
       "      <td>100.00000000</td>\n",
       "      <td>100.00000000</td>\n",
       "    </tr>\n",
       "    <tr>\n",
       "      <th>13</th>\n",
       "      <td>nan</td>\n",
       "      <td>nan</td>\n",
       "      <td>nan</td>\n",
       "      <td>nan</td>\n",
       "      <td>nan</td>\n",
       "      <td>nan</td>\n",
       "      <td>nan</td>\n",
       "      <td>nan</td>\n",
       "      <td>nan</td>\n",
       "      <td>nan</td>\n",
       "      <td>nan</td>\n",
       "      <td>nan</td>\n",
       "      <td>nan</td>\n",
       "      <td>100.00000000</td>\n",
       "      <td>100.00000000</td>\n",
       "      <td>100.00000000</td>\n",
       "      <td>100.00000000</td>\n",
       "      <td>100.00000000</td>\n",
       "      <td>100.00000000</td>\n",
       "      <td>100.00000000</td>\n",
       "    </tr>\n",
       "    <tr>\n",
       "      <th>14</th>\n",
       "      <td>nan</td>\n",
       "      <td>nan</td>\n",
       "      <td>nan</td>\n",
       "      <td>nan</td>\n",
       "      <td>nan</td>\n",
       "      <td>nan</td>\n",
       "      <td>nan</td>\n",
       "      <td>nan</td>\n",
       "      <td>nan</td>\n",
       "      <td>nan</td>\n",
       "      <td>nan</td>\n",
       "      <td>nan</td>\n",
       "      <td>nan</td>\n",
       "      <td>nan</td>\n",
       "      <td>100.00000000</td>\n",
       "      <td>100.00000000</td>\n",
       "      <td>100.00000000</td>\n",
       "      <td>100.00000000</td>\n",
       "      <td>100.00000000</td>\n",
       "      <td>100.00000000</td>\n",
       "    </tr>\n",
       "    <tr>\n",
       "      <th>15</th>\n",
       "      <td>nan</td>\n",
       "      <td>nan</td>\n",
       "      <td>nan</td>\n",
       "      <td>nan</td>\n",
       "      <td>nan</td>\n",
       "      <td>nan</td>\n",
       "      <td>nan</td>\n",
       "      <td>nan</td>\n",
       "      <td>nan</td>\n",
       "      <td>nan</td>\n",
       "      <td>nan</td>\n",
       "      <td>nan</td>\n",
       "      <td>nan</td>\n",
       "      <td>nan</td>\n",
       "      <td>nan</td>\n",
       "      <td>100.00000000</td>\n",
       "      <td>100.00000000</td>\n",
       "      <td>100.00000000</td>\n",
       "      <td>100.00000000</td>\n",
       "      <td>100.00000000</td>\n",
       "    </tr>\n",
       "    <tr>\n",
       "      <th>16</th>\n",
       "      <td>nan</td>\n",
       "      <td>nan</td>\n",
       "      <td>nan</td>\n",
       "      <td>nan</td>\n",
       "      <td>nan</td>\n",
       "      <td>nan</td>\n",
       "      <td>nan</td>\n",
       "      <td>nan</td>\n",
       "      <td>nan</td>\n",
       "      <td>nan</td>\n",
       "      <td>nan</td>\n",
       "      <td>nan</td>\n",
       "      <td>nan</td>\n",
       "      <td>nan</td>\n",
       "      <td>nan</td>\n",
       "      <td>nan</td>\n",
       "      <td>100.00000000</td>\n",
       "      <td>100.00000000</td>\n",
       "      <td>100.00000000</td>\n",
       "      <td>100.00000000</td>\n",
       "    </tr>\n",
       "    <tr>\n",
       "      <th>17</th>\n",
       "      <td>nan</td>\n",
       "      <td>nan</td>\n",
       "      <td>nan</td>\n",
       "      <td>nan</td>\n",
       "      <td>nan</td>\n",
       "      <td>nan</td>\n",
       "      <td>nan</td>\n",
       "      <td>nan</td>\n",
       "      <td>nan</td>\n",
       "      <td>nan</td>\n",
       "      <td>nan</td>\n",
       "      <td>nan</td>\n",
       "      <td>nan</td>\n",
       "      <td>nan</td>\n",
       "      <td>nan</td>\n",
       "      <td>nan</td>\n",
       "      <td>nan</td>\n",
       "      <td>100.00000000</td>\n",
       "      <td>100.00000000</td>\n",
       "      <td>100.00000000</td>\n",
       "    </tr>\n",
       "    <tr>\n",
       "      <th>18</th>\n",
       "      <td>nan</td>\n",
       "      <td>nan</td>\n",
       "      <td>nan</td>\n",
       "      <td>nan</td>\n",
       "      <td>nan</td>\n",
       "      <td>nan</td>\n",
       "      <td>nan</td>\n",
       "      <td>nan</td>\n",
       "      <td>nan</td>\n",
       "      <td>nan</td>\n",
       "      <td>nan</td>\n",
       "      <td>nan</td>\n",
       "      <td>nan</td>\n",
       "      <td>nan</td>\n",
       "      <td>nan</td>\n",
       "      <td>nan</td>\n",
       "      <td>nan</td>\n",
       "      <td>nan</td>\n",
       "      <td>99.86863447</td>\n",
       "      <td>100.00000000</td>\n",
       "    </tr>\n",
       "    <tr>\n",
       "      <th>19</th>\n",
       "      <td>nan</td>\n",
       "      <td>nan</td>\n",
       "      <td>nan</td>\n",
       "      <td>nan</td>\n",
       "      <td>nan</td>\n",
       "      <td>nan</td>\n",
       "      <td>nan</td>\n",
       "      <td>nan</td>\n",
       "      <td>nan</td>\n",
       "      <td>nan</td>\n",
       "      <td>nan</td>\n",
       "      <td>nan</td>\n",
       "      <td>nan</td>\n",
       "      <td>nan</td>\n",
       "      <td>nan</td>\n",
       "      <td>nan</td>\n",
       "      <td>nan</td>\n",
       "      <td>nan</td>\n",
       "      <td>nan</td>\n",
       "      <td>95.73726894</td>\n",
       "    </tr>\n",
       "  </tbody>\n",
       "</table>\n",
       "</div>"
      ],
      "text/plain": [
       "            0           1           2            3            4            5   \\\n",
       "0  96.06913594 93.01116133 89.69677984  86.25574527  82.81395729  79.46042390   \n",
       "1          nan 98.33884205 95.87963726  93.05407668  89.99859262  86.88073271   \n",
       "2          nan         nan 99.83747032  98.09124908  95.86270311  93.25954045   \n",
       "3          nan         nan         nan 100.43531815  99.51958774  98.03505888   \n",
       "4          nan         nan         nan          nan 100.00000000 100.00000000   \n",
       "5          nan         nan         nan          nan          nan 100.00000000   \n",
       "6          nan         nan         nan          nan          nan          nan   \n",
       "7          nan         nan         nan          nan          nan          nan   \n",
       "8          nan         nan         nan          nan          nan          nan   \n",
       "9          nan         nan         nan          nan          nan          nan   \n",
       "10         nan         nan         nan          nan          nan          nan   \n",
       "11         nan         nan         nan          nan          nan          nan   \n",
       "12         nan         nan         nan          nan          nan          nan   \n",
       "13         nan         nan         nan          nan          nan          nan   \n",
       "14         nan         nan         nan          nan          nan          nan   \n",
       "15         nan         nan         nan          nan          nan          nan   \n",
       "16         nan         nan         nan          nan          nan          nan   \n",
       "17         nan         nan         nan          nan          nan          nan   \n",
       "18         nan         nan         nan          nan          nan          nan   \n",
       "19         nan         nan         nan          nan          nan          nan   \n",
       "\n",
       "             6            7            8            9            10  \\\n",
       "0   76.26099375  73.26832155  70.52944677  68.09191136  66.00899212   \n",
       "1   83.81796526  80.89563805  78.17994439  75.72781737  73.59514452   \n",
       "2   90.50529267  87.75606481  85.12397183  82.69381355  80.53553866   \n",
       "3   95.97417194  93.63484844  91.22479619  88.89222049  86.74736176   \n",
       "4   99.46200207  98.06912701  96.21743535  94.18270384  92.16086118   \n",
       "5  100.00000000 100.00000000  99.45221584  98.19433909  96.59136688   \n",
       "6  100.00000000 100.00000000 100.00000000 100.00000000  99.49008372   \n",
       "7           nan 100.00000000 100.00000000 100.00000000 100.00000000   \n",
       "8           nan          nan 100.00000000 100.00000000 100.00000000   \n",
       "9           nan          nan          nan 100.00000000 100.00000000   \n",
       "10          nan          nan          nan          nan 100.00000000   \n",
       "11          nan          nan          nan          nan          nan   \n",
       "12          nan          nan          nan          nan          nan   \n",
       "13          nan          nan          nan          nan          nan   \n",
       "14          nan          nan          nan          nan          nan   \n",
       "15          nan          nan          nan          nan          nan   \n",
       "16          nan          nan          nan          nan          nan   \n",
       "17          nan          nan          nan          nan          nan   \n",
       "18          nan          nan          nan          nan          nan   \n",
       "19          nan          nan          nan          nan          nan   \n",
       "\n",
       "             11           12           13           14           15  \\\n",
       "0   64.34465118  63.17918154  62.61699250  62.79839953  63.91797814   \n",
       "1   71.84400033  70.54935620  69.80618133  69.73868306  70.51409767   \n",
       "2   78.71473316  77.30224938  76.38322218  76.06596044  76.49256026   \n",
       "3   84.87782408  83.36123257  82.27743357  81.72050221  81.81006861   \n",
       "4   90.29640896  88.70128174  87.46921555  86.69008756  86.46555472   \n",
       "5   94.90119210  93.31331341  91.97302138  90.99692430  90.48779638   \n",
       "6   98.40756873  97.08983791  95.78357240  94.67846465  93.92439215   \n",
       "7  100.00000000  99.57279826  98.70073643  97.70069589  96.81819310   \n",
       "8  100.00000000 100.00000000 100.00000000  99.69387555  99.05866904   \n",
       "9  100.00000000 100.00000000 100.00000000 100.00000000 100.00000000   \n",
       "10 100.00000000 100.00000000 100.00000000 100.00000000 100.00000000   \n",
       "11 100.00000000 100.00000000 100.00000000 100.00000000 100.00000000   \n",
       "12          nan 100.00000000 100.00000000 100.00000000 100.00000000   \n",
       "13          nan          nan 100.00000000 100.00000000 100.00000000   \n",
       "14          nan          nan          nan 100.00000000 100.00000000   \n",
       "15          nan          nan          nan          nan 100.00000000   \n",
       "16          nan          nan          nan          nan          nan   \n",
       "17          nan          nan          nan          nan          nan   \n",
       "18          nan          nan          nan          nan          nan   \n",
       "19          nan          nan          nan          nan          nan   \n",
       "\n",
       "             16           17           18           19  \n",
       "0   66.25371144  70.21436637  76.41853603  85.83036961  \n",
       "1   72.36405031  75.61829926  80.75926256  88.51237906  \n",
       "2   77.85438312  80.41588957  84.55206109  90.80846597  \n",
       "3   82.70325425  84.61140857  87.82571611  92.75713581  \n",
       "4   86.92405447  88.23419969  90.62228205  94.39887501  \n",
       "5   90.55377606  91.32931712  92.99063979  95.77350249  \n",
       "6   93.64342294  93.94998403  94.98169169  96.91844885  \n",
       "7   96.25060186  96.15203875  96.64508250  97.86778203  \n",
       "8   98.40395923  97.99017585  98.02717647  98.65178309  \n",
       "9   99.84049298  99.45361236  99.16998068  99.29689603  \n",
       "10 100.00000000 100.00000000  99.98403707  99.82591060  \n",
       "11 100.00000000 100.00000000 100.00000000 100.00000000  \n",
       "12 100.00000000 100.00000000 100.00000000 100.00000000  \n",
       "13 100.00000000 100.00000000 100.00000000 100.00000000  \n",
       "14 100.00000000 100.00000000 100.00000000 100.00000000  \n",
       "15 100.00000000 100.00000000 100.00000000 100.00000000  \n",
       "16 100.00000000 100.00000000 100.00000000 100.00000000  \n",
       "17          nan 100.00000000 100.00000000 100.00000000  \n",
       "18          nan          nan  99.86863447 100.00000000  \n",
       "19          nan          nan          nan  95.73726894  "
      ]
     },
     "execution_count": 42,
     "metadata": {},
     "output_type": "execute_result"
    }
   ],
   "source": [
    "BT= bt[:]\n",
    "BT.reverse()\n",
    "values = []\n",
    "value_tree = []\n",
    "count = 17 # dirty trick on call protection\n",
    "for branch in BT:\n",
    "    temp = []\n",
    "    count = count -1\n",
    "    if len(values)==0:\n",
    "        for r in branch:\n",
    "            values.append(min(100, 102/(1+r/2)))\n",
    "    else:\n",
    "        for ind in range(len(branch)):\n",
    "            if count > 0:\n",
    "                temp.append(min((0.5*values[ind]+0.5*values[ind+1]+2)/(1+branch[ind]/2),100))\n",
    "            else:\n",
    "                temp.append( (0.5*values[ind]+0.5*values[ind+1]+2)/(1+branch[ind]/2))\n",
    "        values = temp[:]\n",
    "    value_tree.append(values)\n",
    "\n",
    "    \n",
    "value_tree.reverse()\n",
    "callable_value_tree = value_tree\n",
    "print(values[0])\n",
    "pd.DataFrame(callable_value_tree).T"
   ]
  },
  {
   "cell_type": "markdown",
   "metadata": {},
   "source": [
    "### (c) Forward price"
   ]
  },
  {
   "cell_type": "code",
   "execution_count": 44,
   "metadata": {
    "collapsed": false
   },
   "outputs": [
    {
     "data": {
      "text/plain": [
       "0.67278446386163215"
      ]
     },
     "execution_count": 44,
     "metadata": {},
     "output_type": "execute_result"
    }
   ],
   "source": [
    "p=disc[19] / disc[1]\n",
    "p"
   ]
  },
  {
   "cell_type": "markdown",
   "metadata": {},
   "source": [
    "### (d) Future price"
   ]
  },
  {
   "cell_type": "code",
   "execution_count": 45,
   "metadata": {
    "collapsed": false
   },
   "outputs": [
    {
     "name": "stdout",
     "output_type": "stream",
     "text": [
      "65.0485163778\n"
     ]
    }
   ],
   "source": [
    "BT= bt[:]\n",
    "BT.reverse()\n",
    "values = []\n",
    "value_tree = []\n",
    "for branch in BT:\n",
    "    temp = []\n",
    "\n",
    "    if len(values)==0:\n",
    "        for r in branch:\n",
    "            values.append(100/(1+r/2))\n",
    "    else:\n",
    "        for ind in range(len(branch)):\n",
    "            temp.append((0.5*values[ind]+0.5*values[ind+1])/(1+branch[ind]/2))\n",
    "        values = temp[:]\n",
    "    value_tree.append(values)\n",
    "\n",
    "    \n",
    "value_tree.reverse()\n",
    "\n",
    "ZCB_value_tree = value_tree\n",
    "print(values[0])"
   ]
  },
  {
   "cell_type": "code",
   "execution_count": 46,
   "metadata": {
    "collapsed": false
   },
   "outputs": [
    {
     "data": {
      "text/plain": [
       "0.65048516377782761"
      ]
     },
     "execution_count": 46,
     "metadata": {},
     "output_type": "execute_result"
    }
   ],
   "source": [
    "disc[19]"
   ]
  },
  {
   "cell_type": "code",
   "execution_count": 47,
   "metadata": {
    "collapsed": false
   },
   "outputs": [
    {
     "data": {
      "text/plain": [
       "67.273434984218284"
      ]
     },
     "execution_count": 47,
     "metadata": {},
     "output_type": "execute_result"
    }
   ],
   "source": [
    "#future price is the q-measure of value_tree[2] without discount\n",
    "\n",
    "0.25*value_tree[2][0]+0.5*value_tree[2][1]+0.25* value_tree[2][2]"
   ]
  },
  {
   "cell_type": "markdown",
   "metadata": {
    "collapsed": true
   },
   "source": [
    "The future is mark to market, thus we dont need to discount it, while the forward need to discount.\n",
    "\n",
    "### (e) Hedging with forward"
   ]
  },
  {
   "cell_type": "code",
   "execution_count": 48,
   "metadata": {
    "collapsed": false
   },
   "outputs": [
    {
     "data": {
      "text/plain": [
       "-729.43722863414575"
      ]
     },
     "execution_count": 48,
     "metadata": {},
     "output_type": "execute_result"
    }
   ],
   "source": [
    "#caculate the delta of callable bond using the binomial tree\n",
    "\n",
    "D_call = (callable_value_tree[1][0] - callable_value_tree[1][1])/(bt[1][0] - bt[1][1])\n",
    "D_call"
   ]
  },
  {
   "cell_type": "code",
   "execution_count": 49,
   "metadata": {
    "collapsed": false
   },
   "outputs": [
    {
     "data": {
      "text/plain": [
       "-784.04032867014871"
      ]
     },
     "execution_count": 49,
     "metadata": {},
     "output_type": "execute_result"
    }
   ],
   "source": [
    "#A forward contract is like long a 10-year zcb and short some amount of a 1-year zcb\n",
    "#First caculate the delta of a 10-year ZCB\n",
    "\n",
    "BT= bt[:]\n",
    "BT.reverse()\n",
    "values = []\n",
    "value_tree = []\n",
    "for branch in BT:\n",
    "    temp = []\n",
    "\n",
    "    if len(values)==0:\n",
    "        for r in branch:\n",
    "            values.append(100/(1+r/2))\n",
    "    else:\n",
    "        for ind in range(len(branch)):\n",
    "            temp.append((0.5*values[ind]+0.5*values[ind+1])/(1+branch[ind]/2))\n",
    "        values = temp[:]\n",
    "    value_tree.append(values)\n",
    "\n",
    "    \n",
    "value_tree.reverse()\n",
    "\n",
    "D_10 = ( value_tree[1][0] -  value_tree[1][1])/(bt[1][0] - bt[1][1])\n",
    "D_10"
   ]
  },
  {
   "cell_type": "code",
   "execution_count": 50,
   "metadata": {
    "collapsed": false
   },
   "outputs": [
    {
     "name": "stdout",
     "output_type": "stream",
     "text": [
      "96.6855209534\n"
     ]
    }
   ],
   "source": [
    "#next build a 1-year zcb value tree\n",
    "\n",
    "BT= bt[:2]\n",
    "BT.reverse()\n",
    "values = []\n",
    "value_tree = []\n",
    "for branch in BT:\n",
    "    temp = []\n",
    "\n",
    "    if len(values)==0:\n",
    "        for r in branch:\n",
    "            values.append(100/(1+r/2))\n",
    "    else:\n",
    "        for ind in range(len(branch)):\n",
    "            temp.append((0.5*values[ind]+0.5*values[ind+1])/(1+branch[ind]/2))\n",
    "        values = temp[:]\n",
    "    value_tree.append(values)\n",
    "\n",
    "    \n",
    "value_tree.reverse()\n",
    "\n",
    "\n",
    "print(values[0])"
   ]
  },
  {
   "cell_type": "code",
   "execution_count": 51,
   "metadata": {
    "collapsed": false
   },
   "outputs": [
    {
     "data": {
      "text/plain": [
       "-48.315955649640323"
      ]
     },
     "execution_count": 51,
     "metadata": {},
     "output_type": "execute_result"
    }
   ],
   "source": [
    "#A forward contract is like long a 10-year zcb and short some amount of a 1-year zcb\n",
    "#Then, caculate the delta of a 1-year ZCB\n",
    "\n",
    "D_1 = ( value_tree[1][0] -  value_tree[1][1])/(bt[1][0] - bt[1][1])\n",
    "D_1"
   ]
  },
  {
   "cell_type": "code",
   "execution_count": 52,
   "metadata": {
    "collapsed": false
   },
   "outputs": [
    {
     "data": {
      "text/plain": [
       "0.6727844638614685"
      ]
     },
     "execution_count": 52,
     "metadata": {},
     "output_type": "execute_result"
    }
   ],
   "source": [
    "#we need short:\n",
    "\n",
    "short_position = 65.0485163778 / 96.6855209534 \n",
    "short_position"
   ]
  },
  {
   "cell_type": "code",
   "execution_count": 53,
   "metadata": {
    "collapsed": false
   },
   "outputs": [
    {
     "data": {
      "text/plain": [
       "-751.53410435245098"
      ]
     },
     "execution_count": 53,
     "metadata": {},
     "output_type": "execute_result"
    }
   ],
   "source": [
    "#the delta of forward contract is delta(10 year) - 0.6727 * delta(1 year)\n",
    "\n",
    "D_forward = D_10 - short_position * D_1\n",
    "D_forward\n"
   ]
  },
  {
   "cell_type": "code",
   "execution_count": 54,
   "metadata": {
    "collapsed": false
   },
   "outputs": [
    {
     "data": {
      "text/plain": [
       "0.97059764075863908"
      ]
     },
     "execution_count": 54,
     "metadata": {},
     "output_type": "execute_result"
    }
   ],
   "source": [
    "# So we short \n",
    "\n",
    "D_call / D_forward  "
   ]
  },
  {
   "cell_type": "markdown",
   "metadata": {},
   "source": [
    "### (f) Hedging with future contract\n"
   ]
  },
  {
   "cell_type": "code",
   "execution_count": 55,
   "metadata": {
    "collapsed": false
   },
   "outputs": [
    {
     "data": {
      "text/plain": [
       "-764.52045272169585"
      ]
     },
     "execution_count": 55,
     "metadata": {},
     "output_type": "execute_result"
    }
   ],
   "source": [
    "#caculate the delta of future\n",
    "Cu = (ZCB_value_tree[2][0]*0.5 + ZCB_value_tree[2][1]*0.5)\n",
    "Cd = (ZCB_value_tree[2][2]*0.5 + ZCB_value_tree[2][1]*0.5)\n",
    "\n",
    "D_future = (Cu -Cd)/ (bt[1][0] - bt[1][1])\n",
    "D_future"
   ]
  },
  {
   "cell_type": "code",
   "execution_count": 56,
   "metadata": {
    "collapsed": false
   },
   "outputs": [
    {
     "data": {
      "text/plain": [
       "0.95411081029597877"
      ]
     },
     "execution_count": 56,
     "metadata": {},
     "output_type": "execute_result"
    }
   ],
   "source": [
    "# we need short \n",
    "D_call / D_future  "
   ]
  },
  {
   "cell_type": "markdown",
   "metadata": {},
   "source": [
    "### (g) American swaption"
   ]
  },
  {
   "cell_type": "code",
   "execution_count": 57,
   "metadata": {
    "collapsed": false
   },
   "outputs": [
    {
     "data": {
      "text/plain": [
       "0.04277240845536031"
      ]
     },
     "execution_count": 57,
     "metadata": {},
     "output_type": "execute_result"
    }
   ],
   "source": [
    "# first we need find the swap rate\n",
    "\n",
    "swap_rate = (1 - disc[-1])/(sum(disc))*2\n",
    "swap_rate"
   ]
  },
  {
   "cell_type": "code",
   "execution_count": 58,
   "metadata": {
    "collapsed": false
   },
   "outputs": [
    {
     "name": "stdout",
     "output_type": "stream",
     "text": [
      "99.9999999995\n"
     ]
    }
   ],
   "source": [
    "# test if this is the real par yield or not\n",
    "\n",
    "BT= bt[:]\n",
    "BT.reverse()\n",
    "values = []\n",
    "value_tree = []\n",
    "c = 100 * 0.042772408455379121\n",
    "for branch in BT:\n",
    "    temp = []\n",
    "    count = count -1\n",
    "    if len(values)==0:\n",
    "        for r in branch:\n",
    "            values.append( (100+ c/2)/(1+r/2))\n",
    "    else: \n",
    "        for ind in range(len(branch)):\n",
    "\n",
    "            temp.append( (0.5*values[ind]+0.5*values[ind+1]+c/2)/(1+branch[ind]/2))\n",
    "        values = temp[:]\n",
    "    value_tree.append(values)\n",
    "\n",
    "    \n",
    "value_tree.reverse()\n",
    "\n",
    "print(values[0])"
   ]
  },
  {
   "cell_type": "code",
   "execution_count": 59,
   "metadata": {
    "collapsed": false
   },
   "outputs": [],
   "source": [
    "test_tree = bt[:5]\n",
    "\n",
    "def swap_value(Sub_BT, swap_rate = swap_rate):\n",
    "    #for a fix recivier \n",
    "    sb = Sub_BT[:]\n",
    "    sb.reverse()\n",
    "    values = []\n",
    "    tree_value = []\n",
    "    for branch in sb:\n",
    "        temp = []\n",
    "        if (len(values) == 0):\n",
    " \n",
    "            for r in branch:\n",
    "                #print(r)\n",
    "                values.append(100*(swap_rate - r)/2 /(1+r/2))\n",
    "        else:\n",
    "            for ind in range(len(branch)):\n",
    "                temp.append((values[ind]*0.5+0.5* values[ind+1] + 100*(swap_rate - branch[ind])/2 )/(1+branch[ind]/2) )\n",
    "            values = temp\n",
    "        #print(values)\n",
    "        tree_value.append(values)\n",
    "    return values[0]\n",
    "\n",
    "def select_sub_tree(time, level, tree = bt):\n",
    "    #select for a fixed 10 periods\n",
    "    #all the locations are absolute value\n",
    "    new_tree=[]\n",
    "    for i in range(10):\n",
    "        new_tree.append(bt[time+i][level:(level+1+i)])\n",
    "        \n",
    "    return new_tree"
   ]
  },
  {
   "cell_type": "code",
   "execution_count": 60,
   "metadata": {
    "collapsed": false
   },
   "outputs": [
    {
     "name": "stdout",
     "output_type": "stream",
     "text": [
      "2.177874775\n"
     ]
    },
    {
     "data": {
      "text/html": [
       "<div>\n",
       "<table border=\"1\" class=\"dataframe\">\n",
       "  <thead>\n",
       "    <tr style=\"text-align: right;\">\n",
       "      <th></th>\n",
       "      <th>0</th>\n",
       "      <th>1</th>\n",
       "      <th>2</th>\n",
       "      <th>3</th>\n",
       "      <th>4</th>\n",
       "      <th>5</th>\n",
       "      <th>6</th>\n",
       "      <th>7</th>\n",
       "      <th>8</th>\n",
       "      <th>9</th>\n",
       "      <th>10</th>\n",
       "    </tr>\n",
       "  </thead>\n",
       "  <tbody>\n",
       "    <tr>\n",
       "      <th>0</th>\n",
       "      <td>0.00000000</td>\n",
       "      <td>0.00000000</td>\n",
       "      <td>0.00000000</td>\n",
       "      <td>0.00000000</td>\n",
       "      <td>0.00000000</td>\n",
       "      <td>0.00000000</td>\n",
       "      <td>0.03143438</td>\n",
       "      <td>0.15669464</td>\n",
       "      <td>0.45937328</td>\n",
       "      <td>1.04576970</td>\n",
       "      <td>2.17787477</td>\n",
       "    </tr>\n",
       "    <tr>\n",
       "      <th>1</th>\n",
       "      <td>0.00000000</td>\n",
       "      <td>0.00000000</td>\n",
       "      <td>0.00000000</td>\n",
       "      <td>0.00000000</td>\n",
       "      <td>0.00000000</td>\n",
       "      <td>0.06465781</td>\n",
       "      <td>0.28976832</td>\n",
       "      <td>0.78210868</td>\n",
       "      <td>1.67212653</td>\n",
       "      <td>3.38278938</td>\n",
       "      <td>nan</td>\n",
       "    </tr>\n",
       "    <tr>\n",
       "      <th>2</th>\n",
       "      <td>0.00000000</td>\n",
       "      <td>0.00000000</td>\n",
       "      <td>0.00000000</td>\n",
       "      <td>0.00000000</td>\n",
       "      <td>0.13271057</td>\n",
       "      <td>0.52821833</td>\n",
       "      <td>1.30599377</td>\n",
       "      <td>2.62119661</td>\n",
       "      <td>4.69834162</td>\n",
       "      <td>nan</td>\n",
       "      <td>nan</td>\n",
       "    </tr>\n",
       "    <tr>\n",
       "      <th>3</th>\n",
       "      <td>0.00000000</td>\n",
       "      <td>0.00000000</td>\n",
       "      <td>0.00000000</td>\n",
       "      <td>0.27184415</td>\n",
       "      <td>0.94615754</td>\n",
       "      <td>2.13239441</td>\n",
       "      <td>4.02190439</td>\n",
       "      <td>5.94990815</td>\n",
       "      <td>nan</td>\n",
       "      <td>nan</td>\n",
       "      <td>nan</td>\n",
       "    </tr>\n",
       "    <tr>\n",
       "      <th>4</th>\n",
       "      <td>0.00000000</td>\n",
       "      <td>0.00000000</td>\n",
       "      <td>0.55580215</td>\n",
       "      <td>1.65749567</td>\n",
       "      <td>3.39184754</td>\n",
       "      <td>5.35989641</td>\n",
       "      <td>7.14137682</td>\n",
       "      <td>nan</td>\n",
       "      <td>nan</td>\n",
       "      <td>nan</td>\n",
       "      <td>nan</td>\n",
       "    </tr>\n",
       "    <tr>\n",
       "      <th>5</th>\n",
       "      <td>0.00000000</td>\n",
       "      <td>1.13437635</td>\n",
       "      <td>2.81887439</td>\n",
       "      <td>4.82010288</td>\n",
       "      <td>6.63500984</td>\n",
       "      <td>8.27589049</td>\n",
       "      <td>nan</td>\n",
       "      <td>nan</td>\n",
       "      <td>nan</td>\n",
       "      <td>nan</td>\n",
       "      <td>nan</td>\n",
       "    </tr>\n",
       "    <tr>\n",
       "      <th>6</th>\n",
       "      <td>2.31141293</td>\n",
       "      <td>4.33959284</td>\n",
       "      <td>6.18158533</td>\n",
       "      <td>7.84960010</td>\n",
       "      <td>9.35591376</td>\n",
       "      <td>nan</td>\n",
       "      <td>nan</td>\n",
       "      <td>nan</td>\n",
       "      <td>nan</td>\n",
       "      <td>nan</td>\n",
       "      <td>nan</td>\n",
       "    </tr>\n",
       "    <tr>\n",
       "      <th>7</th>\n",
       "      <td>5.78870218</td>\n",
       "      <td>7.47794589</td>\n",
       "      <td>9.00544659</td>\n",
       "      <td>10.38330061</td>\n",
       "      <td>nan</td>\n",
       "      <td>nan</td>\n",
       "      <td>nan</td>\n",
       "      <td>nan</td>\n",
       "      <td>nan</td>\n",
       "      <td>nan</td>\n",
       "      <td>nan</td>\n",
       "    </tr>\n",
       "    <tr>\n",
       "      <th>8</th>\n",
       "      <td>8.71034745</td>\n",
       "      <td>10.10381142</td>\n",
       "      <td>11.35936820</td>\n",
       "      <td>nan</td>\n",
       "      <td>nan</td>\n",
       "      <td>nan</td>\n",
       "      <td>nan</td>\n",
       "      <td>nan</td>\n",
       "      <td>nan</td>\n",
       "      <td>nan</td>\n",
       "      <td>nan</td>\n",
       "    </tr>\n",
       "    <tr>\n",
       "      <th>9</th>\n",
       "      <td>11.14611282</td>\n",
       "      <td>12.28551184</td>\n",
       "      <td>nan</td>\n",
       "      <td>nan</td>\n",
       "      <td>nan</td>\n",
       "      <td>nan</td>\n",
       "      <td>nan</td>\n",
       "      <td>nan</td>\n",
       "      <td>nan</td>\n",
       "      <td>nan</td>\n",
       "      <td>nan</td>\n",
       "    </tr>\n",
       "    <tr>\n",
       "      <th>10</th>\n",
       "      <td>13.15584638</td>\n",
       "      <td>nan</td>\n",
       "      <td>nan</td>\n",
       "      <td>nan</td>\n",
       "      <td>nan</td>\n",
       "      <td>nan</td>\n",
       "      <td>nan</td>\n",
       "      <td>nan</td>\n",
       "      <td>nan</td>\n",
       "      <td>nan</td>\n",
       "      <td>nan</td>\n",
       "    </tr>\n",
       "  </tbody>\n",
       "</table>\n",
       "</div>"
      ],
      "text/plain": [
       "            0           1           2           3          4          5   \\\n",
       "0   0.00000000  0.00000000  0.00000000  0.00000000 0.00000000 0.00000000   \n",
       "1   0.00000000  0.00000000  0.00000000  0.00000000 0.00000000 0.06465781   \n",
       "2   0.00000000  0.00000000  0.00000000  0.00000000 0.13271057 0.52821833   \n",
       "3   0.00000000  0.00000000  0.00000000  0.27184415 0.94615754 2.13239441   \n",
       "4   0.00000000  0.00000000  0.55580215  1.65749567 3.39184754 5.35989641   \n",
       "5   0.00000000  1.13437635  2.81887439  4.82010288 6.63500984 8.27589049   \n",
       "6   2.31141293  4.33959284  6.18158533  7.84960010 9.35591376        nan   \n",
       "7   5.78870218  7.47794589  9.00544659 10.38330061        nan        nan   \n",
       "8   8.71034745 10.10381142 11.35936820         nan        nan        nan   \n",
       "9  11.14611282 12.28551184         nan         nan        nan        nan   \n",
       "10 13.15584638         nan         nan         nan        nan        nan   \n",
       "\n",
       "           6          7          8          9          10  \n",
       "0  0.03143438 0.15669464 0.45937328 1.04576970 2.17787477  \n",
       "1  0.28976832 0.78210868 1.67212653 3.38278938        nan  \n",
       "2  1.30599377 2.62119661 4.69834162        nan        nan  \n",
       "3  4.02190439 5.94990815        nan        nan        nan  \n",
       "4  7.14137682        nan        nan        nan        nan  \n",
       "5         nan        nan        nan        nan        nan  \n",
       "6         nan        nan        nan        nan        nan  \n",
       "7         nan        nan        nan        nan        nan  \n",
       "8         nan        nan        nan        nan        nan  \n",
       "9         nan        nan        nan        nan        nan  \n",
       "10        nan        nan        nan        nan        nan  "
      ]
     },
     "execution_count": 60,
     "metadata": {},
     "output_type": "execute_result"
    }
   ],
   "source": [
    "sub_tree = bt[:11][:]\n",
    "sub_tree.reverse()\n",
    "value = []\n",
    "current_time = 11\n",
    "value_tree= []\n",
    "for branch in sub_tree:\n",
    "    current_time = current_time - 1\n",
    "    temp = []\n",
    "    if len(value) == 0:\n",
    "        for ind in range(len(branch)):\n",
    "            value.append(max([swap_value(select_sub_tree(current_time, ind)),0]))\n",
    "    else:\n",
    "        for ind in range(len(branch)):\n",
    "            temp.append(max(swap_value(select_sub_tree(current_time, ind)), (0.5*value[ind]+0.5* value[ind+1])/(1+branch[ind]/2)))\n",
    "        value = temp\n",
    "    value_tree.append(value)\n",
    "print(value[0])\n",
    "pd.DataFrame(value_tree).T"
   ]
  },
  {
   "cell_type": "markdown",
   "metadata": {},
   "source": [
    "## Q4 Hull/White"
   ]
  },
  {
   "cell_type": "code",
   "execution_count": 61,
   "metadata": {
    "collapsed": false
   },
   "outputs": [
    {
     "data": {
      "text/plain": [
       "4.9992416531905617"
      ]
     },
     "execution_count": 61,
     "metadata": {},
     "output_type": "execute_result"
    }
   ],
   "source": [
    "k=0.075\n",
    "sig = 0.01\n",
    "M = (np.exp(-k*0.5 ) -1 )\n",
    "V = (1 - np.exp(-2*k*0.5))*sig**2 / (2*k)\n",
    "delta_r = np.sqrt(3*V)\n",
    "j = -0.184/M\n",
    "j"
   ]
  },
  {
   "cell_type": "code",
   "execution_count": 62,
   "metadata": {
    "collapsed": false
   },
   "outputs": [
    {
     "data": {
      "text/plain": [
       "[[0.90755793565919729, 0.0008562172857146666, 0.09158584705508814],\n",
       " [0.10389270920358513, 0.64499225247611691, 0.25111503832029786],\n",
       " [0.11755422223899148, 0.65447480868448238, 0.22797096907652603],\n",
       " [0.13257038616130717, 0.66124806311902917, 0.20618155071966354],\n",
       " [0.14894120097053223, 0.66531201577975729, 0.18574678324971042],\n",
       " [0.16666666666666666, 0.66666666666666663, 0.16666666666666666],\n",
       " [0.18574678324971042, 0.66531201577975729, 0.14894120097053223],\n",
       " [0.20618155071966354, 0.66124806311902917, 0.13257038616130717],\n",
       " [0.22797096907652603, 0.65447480868448238, 0.11755422223899148],\n",
       " [0.25111503832029786, 0.64499225247611691, 0.10389270920358513],\n",
       " [0.09158584705508814, 0.0008562172857146666, 0.90755793565919729]]"
      ]
     },
     "execution_count": 62,
     "metadata": {},
     "output_type": "execute_result"
    }
   ],
   "source": [
    "#thus we will have j = -5 until 5\n",
    "P = []\n",
    "\n",
    "j=-5\n",
    "\n",
    "q_u = 1/6 + (j**2 * M**2 - j*M)/2\n",
    "q_m = - 1/3 - j**2 * M**2 + 2*j*M\n",
    "q_d = 7/6 + (j**2 * M**2 - 3*j*M)/2\n",
    "\n",
    "P.append([q_u,q_m,q_d])\n",
    "\n",
    "for i in range(9):\n",
    "\n",
    "    j=i-4\n",
    "    q_u = 1/6 + (j**2 * M**2 + j*M)/2\n",
    "    q_m = 2/3 - j**2 * M**2\n",
    "    q_d = 1/6 + (j**2 * M**2 - j*M)/2\n",
    "    P.append([q_u,q_m,q_d])\n",
    "    \n",
    "j=5\n",
    "\n",
    "q_u = 7/6 + (j**2 * M**2 + 3*j*M)/2\n",
    "q_m = - 1/3 - j**2 * M**2 - 2*j*M\n",
    "q_d = 1/6 + (j**2 * M**2 + j*M)/2\n",
    "\n",
    "P.append([q_u,q_m,q_d])\n",
    "P.reverse()\n",
    "P"
   ]
  },
  {
   "cell_type": "code",
   "execution_count": 63,
   "metadata": {
    "collapsed": false
   },
   "outputs": [],
   "source": [
    "# max knots is 11\n",
    "f=[100]*13\n",
    "def discount_HW(HW_BT, Prob = P, final = f):\n",
    "    bt = HW_BT[:]\n",
    "    bt.reverse()\n",
    "    value = []\n",
    "    tree_value = []\n",
    "    for branch in bt:\n",
    "        temp = []\n",
    "        if len(branch)==11:\n",
    "            if len(value) == 0:\n",
    "                for ind in range(len(branch)):\n",
    "                    value.append(final[ind]*np.exp(-branch[ind]*0.5))\n",
    "            else:\n",
    "                for ind in range(len(branch)):\n",
    "                     \n",
    "                    if ind == 0:\n",
    "                        temp.append((value[ind]*Prob[ind][0] + \\\n",
    "                                     value[ind+1]*Prob[ind][1] + value[ind+2]*Prob[ind][2])*np.exp(-branch[ind]*0.5))\n",
    "                    elif ind == 10:\n",
    "                        temp.append((value[ind-2]*Prob[ind][0] + \\\n",
    "                                     value[ind-1]*Prob[ind][1] + value[ind]*Prob[ind][2])*np.exp(-branch[ind]*0.5))\n",
    "                    else:\n",
    "                        temp.append((value[ind-1]*Prob[ind][0] + \\\n",
    "                                     value[ind]*Prob[ind][1] + value[ind+1]*Prob[ind][2])*np.exp(-branch[ind]*0.5))\n",
    "                                    \n",
    "                value = temp\n",
    "        else:\n",
    "            if len(value) == 0:\n",
    "                for ind in range(len(branch)):\n",
    "                    value.append(final[ind]*np.exp(-branch[ind]*0.5))\n",
    "            else:\n",
    "                idx = int((11- len(branch))/2)\n",
    "                \n",
    "                for ind in range(len(branch)):\n",
    "                    temp.append((value[ind]*Prob[idx][0] + \\\n",
    "                                 value[ind+1]*Prob[idx][1]+ value[ind+2]*Prob[idx][2])*np.exp(-branch[ind]*0.5))\n",
    "                    idx = idx + 1\n",
    "                value = temp\n",
    "        tree_value.append(value)\n",
    "        \n",
    "    return(value[0])\n",
    "                    \n",
    "                                    \n",
    "def extend_HW(HW_BT , m, delta_r = delta_r):\n",
    "    new_tree = HW_BT[:]\n",
    "    if len(new_tree[-1]) == 11:\n",
    "        new_tree.append([r+m for r in new_tree[-1]])\n",
    "    else:\n",
    "        new_branch = [r+delta_r+m for r in new_tree[-1]]\n",
    "        new_branch.append(new_tree[-1][-1] + m)\n",
    "        new_branch.append(new_tree[-1][-1] + m - delta_r)\n",
    "        new_tree.append(new_branch)\n",
    "    return new_tree\n",
    "    \n",
    "    \n",
    "def find_HW(m, HW_BT, price_ZCB, n,  Prob = P, delta_r = delta_r):\n",
    "    #only find ZCB\n",
    "    new_tree = extend_HW(HW_BT, m)\n",
    "    f=[100]*(2*n-1)\n",
    "    price = discount_HW(new_tree , Prob, f)\n",
    "    return(price - price_ZCB)"
   ]
  },
  {
   "cell_type": "code",
   "execution_count": 72,
   "metadata": {
    "collapsed": false
   },
   "outputs": [],
   "source": [
    "def find_r0(r):\n",
    "    return (discount_HW([[r]],P,[100])-disc[0]*100)\n",
    "\n",
    "r0 = fsolve(find_r0,0.01)[0]\n",
    "\n",
    "HW_BT = [[r0]]\n",
    "\n",
    "\n",
    "\n",
    "fsolve(find_HW,0.01,args= (HW_BT, disc[1]*100 , 2))\n",
    "\n",
    "\n",
    "for i in range(1,20):\n",
    "    #print(disc[i])\n",
    "    n = i + 1\n",
    "    m = fsolve(find_HW, 0.01, args = (HW_BT, disc[i]*100, n))[0]\n",
    "    HW_BT = extend_HW(HW_BT, m)\n",
    "    \n",
    "#HW_BT"
   ]
  },
  {
   "cell_type": "code",
   "execution_count": null,
   "metadata": {
    "collapsed": false
   },
   "outputs": [],
   "source": []
  },
  {
   "cell_type": "code",
   "execution_count": 74,
   "metadata": {
    "collapsed": false
   },
   "outputs": [
    {
     "data": {
      "text/html": [
       "<div>\n",
       "<table border=\"1\" class=\"dataframe\">\n",
       "  <thead>\n",
       "    <tr style=\"text-align: right;\">\n",
       "      <th></th>\n",
       "      <th>0</th>\n",
       "      <th>1</th>\n",
       "      <th>2</th>\n",
       "      <th>3</th>\n",
       "      <th>4</th>\n",
       "      <th>5</th>\n",
       "      <th>6</th>\n",
       "      <th>7</th>\n",
       "      <th>8</th>\n",
       "      <th>9</th>\n",
       "      <th>10</th>\n",
       "      <th>11</th>\n",
       "      <th>12</th>\n",
       "      <th>13</th>\n",
       "      <th>14</th>\n",
       "      <th>15</th>\n",
       "      <th>16</th>\n",
       "      <th>17</th>\n",
       "      <th>18</th>\n",
       "      <th>19</th>\n",
       "    </tr>\n",
       "  </thead>\n",
       "  <tbody>\n",
       "    <tr>\n",
       "      <th>0</th>\n",
       "      <td>0.03315512</td>\n",
       "      <td>0.04629133</td>\n",
       "      <td>0.05946731</td>\n",
       "      <td>0.07267273</td>\n",
       "      <td>0.08589787</td>\n",
       "      <td>0.09913353</td>\n",
       "      <td>0.10034970</td>\n",
       "      <td>0.10155961</td>\n",
       "      <td>0.10275564</td>\n",
       "      <td>0.10393067</td>\n",
       "      <td>0.10507806</td>\n",
       "      <td>0.10619166</td>\n",
       "      <td>0.10726577</td>\n",
       "      <td>0.10829517</td>\n",
       "      <td>0.10927507</td>\n",
       "      <td>0.11020114</td>\n",
       "      <td>0.11106947</td>\n",
       "      <td>0.11187659</td>\n",
       "      <td>0.11261945</td>\n",
       "      <td>0.11329543</td>\n",
       "    </tr>\n",
       "    <tr>\n",
       "      <th>1</th>\n",
       "      <td>nan</td>\n",
       "      <td>0.03426998</td>\n",
       "      <td>0.04744595</td>\n",
       "      <td>0.06065138</td>\n",
       "      <td>0.07387651</td>\n",
       "      <td>0.08711217</td>\n",
       "      <td>0.08832834</td>\n",
       "      <td>0.08953825</td>\n",
       "      <td>0.09073428</td>\n",
       "      <td>0.09190931</td>\n",
       "      <td>0.09305670</td>\n",
       "      <td>0.09417030</td>\n",
       "      <td>0.09524441</td>\n",
       "      <td>0.09627381</td>\n",
       "      <td>0.09725371</td>\n",
       "      <td>0.09817978</td>\n",
       "      <td>0.09904811</td>\n",
       "      <td>0.09985523</td>\n",
       "      <td>0.10059810</td>\n",
       "      <td>0.10127408</td>\n",
       "    </tr>\n",
       "    <tr>\n",
       "      <th>2</th>\n",
       "      <td>nan</td>\n",
       "      <td>0.02224862</td>\n",
       "      <td>0.03542459</td>\n",
       "      <td>0.04863002</td>\n",
       "      <td>0.06185516</td>\n",
       "      <td>0.07509082</td>\n",
       "      <td>0.07630699</td>\n",
       "      <td>0.07751690</td>\n",
       "      <td>0.07871293</td>\n",
       "      <td>0.07988795</td>\n",
       "      <td>0.08103534</td>\n",
       "      <td>0.08214894</td>\n",
       "      <td>0.08322306</td>\n",
       "      <td>0.08425245</td>\n",
       "      <td>0.08523236</td>\n",
       "      <td>0.08615842</td>\n",
       "      <td>0.08702675</td>\n",
       "      <td>0.08783387</td>\n",
       "      <td>0.08857674</td>\n",
       "      <td>0.08925272</td>\n",
       "    </tr>\n",
       "    <tr>\n",
       "      <th>3</th>\n",
       "      <td>nan</td>\n",
       "      <td>nan</td>\n",
       "      <td>0.02340324</td>\n",
       "      <td>0.03660866</td>\n",
       "      <td>0.04983380</td>\n",
       "      <td>0.06306946</td>\n",
       "      <td>0.06428563</td>\n",
       "      <td>0.06549554</td>\n",
       "      <td>0.06669157</td>\n",
       "      <td>0.06786660</td>\n",
       "      <td>0.06901399</td>\n",
       "      <td>0.07012758</td>\n",
       "      <td>0.07120170</td>\n",
       "      <td>0.07223110</td>\n",
       "      <td>0.07321100</td>\n",
       "      <td>0.07413706</td>\n",
       "      <td>0.07500540</td>\n",
       "      <td>0.07581252</td>\n",
       "      <td>0.07655538</td>\n",
       "      <td>0.07723136</td>\n",
       "    </tr>\n",
       "    <tr>\n",
       "      <th>4</th>\n",
       "      <td>nan</td>\n",
       "      <td>nan</td>\n",
       "      <td>0.01138188</td>\n",
       "      <td>0.02458731</td>\n",
       "      <td>0.03781244</td>\n",
       "      <td>0.05104810</td>\n",
       "      <td>0.05226427</td>\n",
       "      <td>0.05347418</td>\n",
       "      <td>0.05467021</td>\n",
       "      <td>0.05584524</td>\n",
       "      <td>0.05699263</td>\n",
       "      <td>0.05810623</td>\n",
       "      <td>0.05918034</td>\n",
       "      <td>0.06020974</td>\n",
       "      <td>0.06118964</td>\n",
       "      <td>0.06211571</td>\n",
       "      <td>0.06298404</td>\n",
       "      <td>0.06379116</td>\n",
       "      <td>0.06453403</td>\n",
       "      <td>0.06521001</td>\n",
       "    </tr>\n",
       "    <tr>\n",
       "      <th>5</th>\n",
       "      <td>nan</td>\n",
       "      <td>nan</td>\n",
       "      <td>nan</td>\n",
       "      <td>0.01256595</td>\n",
       "      <td>0.02579109</td>\n",
       "      <td>0.03902675</td>\n",
       "      <td>0.04024292</td>\n",
       "      <td>0.04145283</td>\n",
       "      <td>0.04264885</td>\n",
       "      <td>0.04382388</td>\n",
       "      <td>0.04497127</td>\n",
       "      <td>0.04608487</td>\n",
       "      <td>0.04715898</td>\n",
       "      <td>0.04818838</td>\n",
       "      <td>0.04916828</td>\n",
       "      <td>0.05009435</td>\n",
       "      <td>0.05096268</td>\n",
       "      <td>0.05176980</td>\n",
       "      <td>0.05251267</td>\n",
       "      <td>0.05318865</td>\n",
       "    </tr>\n",
       "    <tr>\n",
       "      <th>6</th>\n",
       "      <td>nan</td>\n",
       "      <td>nan</td>\n",
       "      <td>nan</td>\n",
       "      <td>0.00054459</td>\n",
       "      <td>0.01376973</td>\n",
       "      <td>0.02700539</td>\n",
       "      <td>0.02822156</td>\n",
       "      <td>0.02943147</td>\n",
       "      <td>0.03062750</td>\n",
       "      <td>0.03180252</td>\n",
       "      <td>0.03294992</td>\n",
       "      <td>0.03406351</td>\n",
       "      <td>0.03513763</td>\n",
       "      <td>0.03616703</td>\n",
       "      <td>0.03714693</td>\n",
       "      <td>0.03807299</td>\n",
       "      <td>0.03894132</td>\n",
       "      <td>0.03974845</td>\n",
       "      <td>0.04049131</td>\n",
       "      <td>0.04116729</td>\n",
       "    </tr>\n",
       "    <tr>\n",
       "      <th>7</th>\n",
       "      <td>nan</td>\n",
       "      <td>nan</td>\n",
       "      <td>nan</td>\n",
       "      <td>nan</td>\n",
       "      <td>0.00174837</td>\n",
       "      <td>0.01498403</td>\n",
       "      <td>0.01620020</td>\n",
       "      <td>0.01741011</td>\n",
       "      <td>0.01860614</td>\n",
       "      <td>0.01978117</td>\n",
       "      <td>0.02092856</td>\n",
       "      <td>0.02204216</td>\n",
       "      <td>0.02311627</td>\n",
       "      <td>0.02414567</td>\n",
       "      <td>0.02512557</td>\n",
       "      <td>0.02605164</td>\n",
       "      <td>0.02691997</td>\n",
       "      <td>0.02772709</td>\n",
       "      <td>0.02846995</td>\n",
       "      <td>0.02914593</td>\n",
       "    </tr>\n",
       "    <tr>\n",
       "      <th>8</th>\n",
       "      <td>nan</td>\n",
       "      <td>nan</td>\n",
       "      <td>nan</td>\n",
       "      <td>nan</td>\n",
       "      <td>-0.01027299</td>\n",
       "      <td>0.00296267</td>\n",
       "      <td>0.00417884</td>\n",
       "      <td>0.00538875</td>\n",
       "      <td>0.00658478</td>\n",
       "      <td>0.00775981</td>\n",
       "      <td>0.00890720</td>\n",
       "      <td>0.01002080</td>\n",
       "      <td>0.01109491</td>\n",
       "      <td>0.01212431</td>\n",
       "      <td>0.01310421</td>\n",
       "      <td>0.01403028</td>\n",
       "      <td>0.01489861</td>\n",
       "      <td>0.01570573</td>\n",
       "      <td>0.01644860</td>\n",
       "      <td>0.01712458</td>\n",
       "    </tr>\n",
       "    <tr>\n",
       "      <th>9</th>\n",
       "      <td>nan</td>\n",
       "      <td>nan</td>\n",
       "      <td>nan</td>\n",
       "      <td>nan</td>\n",
       "      <td>nan</td>\n",
       "      <td>-0.00905868</td>\n",
       "      <td>-0.00784251</td>\n",
       "      <td>-0.00663260</td>\n",
       "      <td>-0.00543657</td>\n",
       "      <td>-0.00426155</td>\n",
       "      <td>-0.00311416</td>\n",
       "      <td>-0.00200056</td>\n",
       "      <td>-0.00092644</td>\n",
       "      <td>0.00010295</td>\n",
       "      <td>0.00108286</td>\n",
       "      <td>0.00200892</td>\n",
       "      <td>0.00287725</td>\n",
       "      <td>0.00368437</td>\n",
       "      <td>0.00442724</td>\n",
       "      <td>0.00510322</td>\n",
       "    </tr>\n",
       "    <tr>\n",
       "      <th>10</th>\n",
       "      <td>nan</td>\n",
       "      <td>nan</td>\n",
       "      <td>nan</td>\n",
       "      <td>nan</td>\n",
       "      <td>nan</td>\n",
       "      <td>-0.02108004</td>\n",
       "      <td>-0.01986387</td>\n",
       "      <td>-0.01865396</td>\n",
       "      <td>-0.01745793</td>\n",
       "      <td>-0.01628290</td>\n",
       "      <td>-0.01513551</td>\n",
       "      <td>-0.01402192</td>\n",
       "      <td>-0.01294780</td>\n",
       "      <td>-0.01191840</td>\n",
       "      <td>-0.01093850</td>\n",
       "      <td>-0.01001244</td>\n",
       "      <td>-0.00914410</td>\n",
       "      <td>-0.00833698</td>\n",
       "      <td>-0.00759412</td>\n",
       "      <td>-0.00691814</td>\n",
       "    </tr>\n",
       "  </tbody>\n",
       "</table>\n",
       "</div>"
      ],
      "text/plain": [
       "           0          1          2          3           4           5   \\\n",
       "0  0.03315512 0.04629133 0.05946731 0.07267273  0.08589787  0.09913353   \n",
       "1         nan 0.03426998 0.04744595 0.06065138  0.07387651  0.08711217   \n",
       "2         nan 0.02224862 0.03542459 0.04863002  0.06185516  0.07509082   \n",
       "3         nan        nan 0.02340324 0.03660866  0.04983380  0.06306946   \n",
       "4         nan        nan 0.01138188 0.02458731  0.03781244  0.05104810   \n",
       "5         nan        nan        nan 0.01256595  0.02579109  0.03902675   \n",
       "6         nan        nan        nan 0.00054459  0.01376973  0.02700539   \n",
       "7         nan        nan        nan        nan  0.00174837  0.01498403   \n",
       "8         nan        nan        nan        nan -0.01027299  0.00296267   \n",
       "9         nan        nan        nan        nan         nan -0.00905868   \n",
       "10        nan        nan        nan        nan         nan -0.02108004   \n",
       "\n",
       "            6           7           8           9           10          11  \\\n",
       "0   0.10034970  0.10155961  0.10275564  0.10393067  0.10507806  0.10619166   \n",
       "1   0.08832834  0.08953825  0.09073428  0.09190931  0.09305670  0.09417030   \n",
       "2   0.07630699  0.07751690  0.07871293  0.07988795  0.08103534  0.08214894   \n",
       "3   0.06428563  0.06549554  0.06669157  0.06786660  0.06901399  0.07012758   \n",
       "4   0.05226427  0.05347418  0.05467021  0.05584524  0.05699263  0.05810623   \n",
       "5   0.04024292  0.04145283  0.04264885  0.04382388  0.04497127  0.04608487   \n",
       "6   0.02822156  0.02943147  0.03062750  0.03180252  0.03294992  0.03406351   \n",
       "7   0.01620020  0.01741011  0.01860614  0.01978117  0.02092856  0.02204216   \n",
       "8   0.00417884  0.00538875  0.00658478  0.00775981  0.00890720  0.01002080   \n",
       "9  -0.00784251 -0.00663260 -0.00543657 -0.00426155 -0.00311416 -0.00200056   \n",
       "10 -0.01986387 -0.01865396 -0.01745793 -0.01628290 -0.01513551 -0.01402192   \n",
       "\n",
       "            12          13          14          15          16          17  \\\n",
       "0   0.10726577  0.10829517  0.10927507  0.11020114  0.11106947  0.11187659   \n",
       "1   0.09524441  0.09627381  0.09725371  0.09817978  0.09904811  0.09985523   \n",
       "2   0.08322306  0.08425245  0.08523236  0.08615842  0.08702675  0.08783387   \n",
       "3   0.07120170  0.07223110  0.07321100  0.07413706  0.07500540  0.07581252   \n",
       "4   0.05918034  0.06020974  0.06118964  0.06211571  0.06298404  0.06379116   \n",
       "5   0.04715898  0.04818838  0.04916828  0.05009435  0.05096268  0.05176980   \n",
       "6   0.03513763  0.03616703  0.03714693  0.03807299  0.03894132  0.03974845   \n",
       "7   0.02311627  0.02414567  0.02512557  0.02605164  0.02691997  0.02772709   \n",
       "8   0.01109491  0.01212431  0.01310421  0.01403028  0.01489861  0.01570573   \n",
       "9  -0.00092644  0.00010295  0.00108286  0.00200892  0.00287725  0.00368437   \n",
       "10 -0.01294780 -0.01191840 -0.01093850 -0.01001244 -0.00914410 -0.00833698   \n",
       "\n",
       "            18          19  \n",
       "0   0.11261945  0.11329543  \n",
       "1   0.10059810  0.10127408  \n",
       "2   0.08857674  0.08925272  \n",
       "3   0.07655538  0.07723136  \n",
       "4   0.06453403  0.06521001  \n",
       "5   0.05251267  0.05318865  \n",
       "6   0.04049131  0.04116729  \n",
       "7   0.02846995  0.02914593  \n",
       "8   0.01644860  0.01712458  \n",
       "9   0.00442724  0.00510322  \n",
       "10 -0.00759412 -0.00691814  "
      ]
     },
     "execution_count": 74,
     "metadata": {},
     "output_type": "execute_result"
    }
   ],
   "source": [
    "pd.DataFrame(HW_BT).T"
   ]
  },
  {
   "cell_type": "code",
   "execution_count": null,
   "metadata": {
    "collapsed": false
   },
   "outputs": [],
   "source": []
  },
  {
   "cell_type": "markdown",
   "metadata": {},
   "source": [
    "## (Simplified) mortgage-backed security (MBS)\n"
   ]
  },
  {
   "cell_type": "code",
   "execution_count": 75,
   "metadata": {
    "collapsed": false
   },
   "outputs": [],
   "source": [
    "r0 = HW_BT[0][0]\n",
    "def cal_prepay_rate(r, c = r0):\n",
    "    if r >= c:\n",
    "        return 0.03\n",
    "    elif r >= (c-0.005):\n",
    "        return(0.03 + (c-r) * 4)\n",
    "    elif r >= (c-0.01):\n",
    "        return(0.05 + (c-r-0.005)*6)\n",
    "    elif r >= (c-0.02):\n",
    "        return(0.08 + (c-r-0.01)*9)\n",
    "    else:\n",
    "        return 0.17"
   ]
  },
  {
   "cell_type": "code",
   "execution_count": 76,
   "metadata": {
    "collapsed": false
   },
   "outputs": [
    {
     "data": {
      "text/plain": [
       "0.033155119903965045"
      ]
     },
     "execution_count": 76,
     "metadata": {},
     "output_type": "execute_result"
    }
   ],
   "source": [
    "HW_BT[0][0]"
   ]
  },
  {
   "cell_type": "code",
   "execution_count": 77,
   "metadata": {
    "collapsed": false
   },
   "outputs": [],
   "source": [
    "cal_prepay_rate(0.14,0.05)\n",
    "principal = 1000000"
   ]
  },
  {
   "cell_type": "code",
   "execution_count": 78,
   "metadata": {
    "collapsed": false
   },
   "outputs": [],
   "source": [
    "sch_payment = 1000000 / (sum([(1+0.0575/2)**(-i) for i in range(1,11)]))\n",
    "sch_payment\n",
    "\n",
    "def sch_paym(n, principal = principal, rate = 0.0575):\n",
    "    if n <= 0:\n",
    "        return 0\n",
    "    else:\n",
    "        return(principal/ sum([(1+0.0575/2)**(-i-1) for i in range(n)]))\n"
   ]
  },
  {
   "cell_type": "code",
   "execution_count": 79,
   "metadata": {
    "collapsed": false
   },
   "outputs": [
    {
     "name": "stdout",
     "output_type": "stream",
     "text": [
      "912266.112011\n",
      "822009.874742\n",
      "729158.770652\n",
      "633638.197319\n",
      "535371.407503\n",
      "434279.44748\n",
      "330281.093606\n",
      "223292.787058\n",
      "113228.566697\n",
      "2.91038304567e-11\n"
     ]
    }
   ],
   "source": [
    "principal = 1000000\n",
    "amount_not_due = principal\n",
    "\n",
    "for i in range(10):\n",
    "    amount_not_due = amount_not_due*(1+0.0575/2) - sch_payment\n",
    "    print(amount_not_due)"
   ]
  },
  {
   "cell_type": "code",
   "execution_count": 88,
   "metadata": {
    "collapsed": false
   },
   "outputs": [
    {
     "data": {
      "text/plain": [
       "993898.49316337437"
      ]
     },
     "execution_count": 88,
     "metadata": {},
     "output_type": "execute_result"
    }
   ],
   "source": [
    "#test_rate_path = [0.01, 0.1 ,0.2,0.02,0.03,0.03,0.03,0.03,0.04,0.04]\n",
    "test_rate_path = [0.06]*10\n",
    "def value_MBS(rate_path, principal = principal):\n",
    "    #calculate cashflow\n",
    "    prepayment_rate = [cal_prepay_rate(i,c=rate_path[0]) for i in rate_path]\n",
    "    #prepayment_rate = [0] *10\n",
    "    cashflow = []\n",
    "    amount_not_due = principal\n",
    "    n=10\n",
    "    for pre_rate in prepayment_rate:\n",
    "        sch_pay = sch_paym(n,amount_not_due)\n",
    "        n = n - 1\n",
    "        mortgage_amount = amount_not_due * (1+0.0575/2)\n",
    "        principal_left = mortgage_amount - sch_pay\n",
    "        prepay_amount = amount_not_due * pre_rate\n",
    "        total_cashflow = sch_pay + prepay_amount\n",
    "        cashflow.append(total_cashflow)\n",
    "        amount_not_due = principal_left - prepay_amount\n",
    "        #print(amount_not_due)\n",
    "    #print(cashflow)\n",
    "    #Next discount cashflow to time 0\n",
    "    discount_factor = [np.exp(-r*t*0.5) for r,t in zip(rate_path, range(1,11))]\n",
    "    MBSvalue = sum([d*c for c,d in zip(cashflow, discount_factor)])\n",
    "    return(MBSvalue)\n",
    "    \n",
    "    \n",
    "    \n",
    "value_MBS(test_rate_path)\n",
    "\n"
   ]
  },
  {
   "cell_type": "code",
   "execution_count": 89,
   "metadata": {
    "collapsed": true
   },
   "outputs": [],
   "source": [
    "#choice should be a list contain {-1, 0, 1}\n",
    "test_choice = [-1]*3 + [0]*4 + [1] *3\n",
    "\n",
    "def pick(choice, prob = P, HW_BT = HW_BT):\n",
    "    pointer = 0\n",
    "    rate_path = [HW_BT[0][0]]\n",
    "    time = 1\n",
    "    for c in choice:\n",
    "        if pointer == 5:\n",
    "            pointer = pointer + (c-1)\n",
    "        elif pointer == -5:\n",
    "            pointer = pointer + (c+1)\n",
    "        else:\n",
    "            pointer = pointer +c\n",
    "        \n",
    "\n",
    "            absolute_loca = min(time ,5) - pointer\n",
    "\n",
    "        #print(absolute_loca)\n",
    "        rate_path.append(HW_BT[time][absolute_loca])\n",
    "        time = time + 1 \n",
    "        \n",
    "    p=1\n",
    "    pointer= 0\n",
    "    for c in choice:\n",
    "        p = p * prob[ 5 - pointer][1 - c]\n",
    "        \n",
    "        if pointer == 5:\n",
    "            pointer = pointer + (c-1)\n",
    "        elif pointer == -5:\n",
    "            pointer = pointer + (c+1)\n",
    "        else:\n",
    "            pointer = pointer +c\n",
    "        \n",
    "        \n",
    "    \n",
    "    return rate_path,p\n",
    "\n",
    "\n",
    "\n",
    "def extend(orig):\n",
    "    new = []\n",
    "    for i in orig:\n",
    "        new.append(i*10 + 1)\n",
    "        new.append(i*10 + 2)\n",
    "        new.append(i*10 + 3)\n",
    "    return new\n",
    "\n",
    "def converter(n):\n",
    "    return [int(i)-2 for i in list(str(n))]\n",
    "\n",
    "\n",
    "    \n",
    "    "
   ]
  },
  {
   "cell_type": "code",
   "execution_count": null,
   "metadata": {
    "collapsed": false
   },
   "outputs": [],
   "source": []
  },
  {
   "cell_type": "code",
   "execution_count": null,
   "metadata": {
    "collapsed": false
   },
   "outputs": [],
   "source": []
  },
  {
   "cell_type": "code",
   "execution_count": 90,
   "metadata": {
    "collapsed": false
   },
   "outputs": [
    {
     "data": {
      "text/plain": [
       "[-1, -1, -1, -1, -1, -1, -1, -1, -1, -1]"
      ]
     },
     "execution_count": 90,
     "metadata": {},
     "output_type": "execute_result"
    }
   ],
   "source": [
    "l=extend([1,2,3])\n",
    "for i in range(8):\n",
    "    l = extend(l)\n",
    "    \n",
    "\n",
    "\n",
    "choice_of_path = [converter(i) for i in l]\n",
    "choice_of_path[0]"
   ]
  },
  {
   "cell_type": "code",
   "execution_count": 91,
   "metadata": {
    "collapsed": false
   },
   "outputs": [
    {
     "name": "stdout",
     "output_type": "stream",
     "text": [
      "The exact price of the MBS: 1043402.62547\n",
      "Totoal probability of all the paths: 1.0\n"
     ]
    }
   ],
   "source": [
    "Exact_value = 0\n",
    "p = 0\n",
    "for path in choice_of_path:\n",
    "    \n",
    "    rat_p, pro = pick(path)\n",
    "    #print(path)\n",
    "    Exact_value = Exact_value + value_MBS(rat_p) * pro\n",
    "    p = p + pro\n",
    "print(\"The exact price of the MBS:\", Exact_value)\n",
    "print(\"Totoal probability of all the paths:\",p)"
   ]
  },
  {
   "cell_type": "markdown",
   "metadata": {},
   "source": [
    "### (b) Monte Carlo Simulation\n",
    "\n",
    "we need 1000 * 10 random varables."
   ]
  },
  {
   "cell_type": "code",
   "execution_count": 92,
   "metadata": {
    "collapsed": false
   },
   "outputs": [],
   "source": [
    "np.random.seed(0)\n",
    "ran_num = np.random.rand(10000)"
   ]
  },
  {
   "cell_type": "code",
   "execution_count": 93,
   "metadata": {
    "collapsed": false
   },
   "outputs": [],
   "source": [
    "def choice_path(ran, prob = P):\n",
    "    pointer = 0\n",
    "    choice = []\n",
    "    for x in ran:\n",
    "        if x <= prob[5-pointer][0]:\n",
    "            choice.append(1)\n",
    "        elif (x<= (prob[5-pointer][1]+prob[5-pointer][0])) and (x > prob[5-pointer][0]):\n",
    "            choice.append(0)\n",
    "        else:\n",
    "            choice.append(-1)\n",
    "    return(choice)"
   ]
  },
  {
   "cell_type": "code",
   "execution_count": 94,
   "metadata": {
    "collapsed": false
   },
   "outputs": [
    {
     "data": {
      "text/plain": [
       "[0, 0, 0, 0, 0, 0, 0, -1, -1, 0]"
      ]
     },
     "execution_count": 94,
     "metadata": {},
     "output_type": "execute_result"
    }
   ],
   "source": [
    "choice_path(ran_num[:10])"
   ]
  },
  {
   "cell_type": "code",
   "execution_count": 95,
   "metadata": {
    "collapsed": true
   },
   "outputs": [],
   "source": [
    "paths = []\n",
    "for i in range(1000):\n",
    "    paths.append(choice_path(ran_num[(10*i) : (10*i +10)]))"
   ]
  },
  {
   "cell_type": "code",
   "execution_count": 96,
   "metadata": {
    "collapsed": false
   },
   "outputs": [
    {
     "name": "stdout",
     "output_type": "stream",
     "text": [
      "1040986.62519\n",
      "32412.8909819\n"
     ]
    }
   ],
   "source": [
    "mbs_prices= [value_MBS(pick(path)[0]) for path in paths]\n",
    "print(np.mean(mbs_prices))\n",
    "print(np.std(mbs_prices))\n"
   ]
  },
  {
   "cell_type": "markdown",
   "metadata": {},
   "source": [
    "### (c)"
   ]
  },
  {
   "cell_type": "code",
   "execution_count": 97,
   "metadata": {
    "collapsed": false
   },
   "outputs": [],
   "source": [
    "anti_ran = [1- n for n in ran_num[:5000]]\n",
    "paths = []\n",
    "for i in range(500):\n",
    "    \n",
    "    paths.append(choice_path(ran_num[(10*i) : (10*i +10)]))\n",
    "    \n",
    "for i in range(500):\n",
    "    \n",
    "    paths.append(choice_path([1-i for i in ran_num[(10*i) : (10*i +10)]]))"
   ]
  },
  {
   "cell_type": "code",
   "execution_count": 98,
   "metadata": {
    "collapsed": false
   },
   "outputs": [
    {
     "data": {
      "text/plain": [
       "27390855.653459404"
      ]
     },
     "execution_count": 98,
     "metadata": {},
     "output_type": "execute_result"
    }
   ],
   "source": [
    "value_MBS([-1, 0, -1, 0, 0, 0, 1, -1, -1, -1])"
   ]
  },
  {
   "cell_type": "code",
   "execution_count": 99,
   "metadata": {
    "collapsed": false
   },
   "outputs": [
    {
     "name": "stdout",
     "output_type": "stream",
     "text": [
      "1043165.28013\n",
      "31912.0097872\n"
     ]
    }
   ],
   "source": [
    "mbs_prices= [value_MBS(pick(path)[0]) for path in paths]\n",
    "print(np.mean(mbs_prices))\n",
    "print(np.std(mbs_prices))\n"
   ]
  },
  {
   "cell_type": "code",
   "execution_count": null,
   "metadata": {
    "collapsed": true
   },
   "outputs": [],
   "source": []
  },
  {
   "cell_type": "code",
   "execution_count": null,
   "metadata": {
    "collapsed": true
   },
   "outputs": [],
   "source": []
  }
 ],
 "metadata": {
  "kernelspec": {
   "display_name": "Python 2",
   "language": "python",
   "name": "python2"
  },
  "language_info": {
   "codemirror_mode": {
    "name": "ipython",
    "version": 2
   },
   "file_extension": ".py",
   "mimetype": "text/x-python",
   "name": "python",
   "nbconvert_exporter": "python",
   "pygments_lexer": "ipython2",
   "version": "2.7.13"
  }
 },
 "nbformat": 4,
 "nbformat_minor": 2
}
